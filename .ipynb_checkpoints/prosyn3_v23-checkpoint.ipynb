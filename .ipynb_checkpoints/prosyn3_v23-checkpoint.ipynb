{
 "cells": [
  {
   "cell_type": "markdown",
   "metadata": {},
   "source": [
    "<div style=\"background-color:powderblue;\"><h1>Projet Synthese</h1><b><br>\n",
    "    Groupe 3: Amardeepkumar Haulkhory, Hilaire Yuma, Jian-Guo Zhao, Mamadou Sy</b></div>"
   ]
  },
  {
   "cell_type": "markdown",
   "metadata": {},
   "source": [
    "<h2>Partie II Apprentissage par <abbr title=\"Convolutional Neural Networks\"><b>CNN </b></abbr></h2>\n",
    "<p>Definir le <abbr title=\"Convolutional Neural Networks\"><b>CNN </b></abbr>architecture:</p>\n",
    "<ol>\n",
    "    <li>La premiere couche, Conv2D, prend un batch de données avec input_shape=(48, 48, 1)</li>\n",
    "    <li>La deuxieme couche, Conv2D, prend la sortie de couche 1, keras determine le shape automatiquement</li>\n",
    "    <li>Il n'est pas necessaire d'indiquer input_shape pour les couches plus profondes</li>\n",
    "    <li>La troisieme couche, Conv2D, prend la sortie de la couche 2, keras determine le shape automatiquement</li>\n",
    "    <li>Ainsi de suite, on peut ajouter autres couches Conv2D s'il est nécessaire</li>\n",
    "    <li>Entre chaque deux couches Conv2D, une couche Max pooling est ajoutée</li>\n",
    "    <li>Pour reduire le sur-apprentissage, une couche de regularisation Dropout pourrait etre ajoutée</li>\n",
    "    <li>Pour obtension d'une meilleure performance, une couche Normalisation pourrait etre aussi appliquée</li>\n",
    "    <li>Avant la couche dense, nous ajoutons une couche Flatten qui convert le matrix 2D en vector 1D</li>\n",
    "    <li>Puis, une couche Dense avec une fonction activation ReLu</li>\n",
    "    <li>Encore une couche de regularization Dropout est appliquée avec une valeur plus grande normallement</li>\n",
    "    <li>Enfin, la couche de sortie donne 7 neurons pour les 7 classes avec une fonction activation softmax qui donne la possibilite de prediction pour chaque class.</li>\n",
    "</ol>"
   ]
  },
  {
   "cell_type": "markdown",
   "metadata": {},
   "source": [
    "<h3>Dépendences - packages nécessaires</h3>\n",
    "<p>En utilisant <b>tensorflow.compat.v1</b>, vous devez desactiver eager_execution.<br>Ce n'est pas le cas pour <b>tensorflow.v2</b>. De plus, le package <b>tensorflow</b> n'a pas la fonction <b><i>disable_eager_execution</i></b>.</p>"
   ]
  },
  {
   "cell_type": "code",
   "execution_count": 1,
   "metadata": {},
   "outputs": [
    {
     "name": "stderr",
     "output_type": "stream",
     "text": [
      "Using TensorFlow backend.\n"
     ]
    }
   ],
   "source": [
    "import tensorflow as tf\n",
    "#import tensorflow.compat.v1 as tf\n",
    "#tf.disable_eager_execution()\n",
    "\n",
    "from keras.models import Sequential\n",
    "from keras.layers import Dense, Conv2D, Dropout, Flatten, MaxPooling2D \n",
    "from keras.utils import to_categorical\n",
    "\n",
    "from keras.utils.data_utils import Sequence\n",
    "from imblearn.over_sampling import RandomOverSampler\n",
    "from imblearn.keras import balanced_batch_generator\n",
    "\n",
    "import numpy as np      # linear algebra\n",
    "import pandas as pd     # data processing, CSV file I/O (e.g. pd.read_csv)\n",
    "import matplotlib.pyplot as plt\n",
    "import seaborn as sns\n",
    "from sklearn.metrics import confusion_matrix\n",
    "\n",
    "import os\n",
    "from keras.layers.normalization import BatchNormalization\n",
    "from keras.preprocessing.image import ImageDataGenerator\n",
    "\n",
    "from numpy import expand_dims\n",
    "from keras.preprocessing.image import img_to_array\n",
    "\n",
    "%matplotlib inline"
   ]
  },
  {
   "cell_type": "markdown",
   "metadata": {},
   "source": [
    "<h3>Chargement des donnees</h3>\n",
    "<p>Pour eviter l'operation <b>download</b> des donnees se fait chaque fois, on les sauvegarde dans un repertoire local, qui est differente pour different colaborateurs. Veuillez changez la valeur de variable <b><i>data_dir</i></b> si necessaire</p>"
   ]
  },
  {
   "cell_type": "code",
   "execution_count": 2,
   "metadata": {},
   "outputs": [],
   "source": [
    "data_dir = \"C:\\\\Users\\\\jeang\\\\Documents\\\\BDEB\\\\A62\\\\ProSyn3\\\\data\\\\fer2013.csv\"\n",
    "df = pd.read_csv(data_dir )"
   ]
  },
  {
   "cell_type": "markdown",
   "metadata": {},
   "source": [
    "<h3>Repartition des donnees</h3>\n",
    "<p>Les donnees originales sont repartie en trois partie. Selons Partie I, la cible est bien balance dans ces trois parties</p>"
   ]
  },
  {
   "cell_type": "code",
   "execution_count": 3,
   "metadata": {},
   "outputs": [],
   "source": [
    "df_training = df[df['Usage']=='Training']\n",
    "df_validation = df[df['Usage']=='PublicTest']\n",
    "df_test = df[df['Usage']=='PrivateTest']"
   ]
  },
  {
   "cell_type": "markdown",
   "metadata": {},
   "source": [
    "<h3>Affichage des donnees</h3>\n",
    "<p> Ces fonctions affichent un image (une ligne)<br>Notons que 48 x 48 = 2304</p>"
   ]
  },
  {
   "cell_type": "code",
   "execution_count": 4,
   "metadata": {},
   "outputs": [
    {
     "data": {
      "image/png": "[encoded data removed]",
      "text/plain": [
       "<Figure size 432x288 with 1 Axes>"
      ]
     },
     "metadata": {
      "needs_background": "light"
     },
     "output_type": "display_data"
    }
   ],
   "source": [
    "FER2013_WIDTH = 48\n",
    "FER2013_HEIGHT = 48\n",
    "\n",
    "# indices 0 - 6 correspondent emotions suivantes\n",
    "Emotions = [\"Angry\", \"Disgust\", \"Fear\", \"Happy\", \"Sad\", \"Surprise\", \"Neutral\"]  \n",
    "\n",
    "def string_to_image(str_in):\n",
    "    return np.reshape(str_in.split(\" \"), (FER2013_WIDTH, FER2013_HEIGHT)).astype(\"float\")\n",
    "\n",
    "def fer2013_show_instance(index, d=df):\n",
    "    \"\"\"Shows the image and the emotion label of the index's instance.\"\"\"\n",
    "    category, str_image = d.at[index,'emotion'], d.at[index,'pixels']\n",
    "    image = string_to_image(str_image)\n",
    "    plt.imshow(image, cmap=\"gray\")\n",
    "    plt.title(f\"Exemple de categorie {category}: {Emotions[category]}\")\n",
    "    \n",
    "fer2013_show_instance(np.random.randint(0,len(df_training)))"
   ]
  },
  {
   "cell_type": "markdown",
   "metadata": {},
   "source": [
    "<h3>Transformation des données</h3>\n",
    "<p><ul> La fonction <b><i>image_to_4d_array</i></b> prend comme entree une dataframe qui tienne les donnees d'images en format des chaines de caracteres.<br>Elle retoune comme sortie un <b>np.array</b> de <mark>4 dimensions</mark>, normalisee, x, et categoriel y, utilisables comme entree pour <b>tensorflow CNN<b></ul></p>"
   ]
  },
  {
   "cell_type": "code",
   "execution_count": 5,
   "metadata": {},
   "outputs": [],
   "source": [
    "def image_to_4d_array(d=df, nclass=7):\n",
    "    \"\"\"Transforms the (blank separated) pixel strings in the DataFrame to an 4-dimensional array \n",
    "    (1st dim: instances, 2nd and 3rd dims represent 2D image, 4th dim represent the color).\"\"\"\n",
    "    \n",
    "    CLASS_NUMBER = min(nclass, 7)\n",
    "    \n",
    "    print(\"Converting pixels to 2D image ...\")\n",
    "    pixels_list = d[\"pixels\"].values\n",
    "    list_image_2d = [string_to_image(pixels) for pixels in pixels_list]\n",
    "        \n",
    "    # Convert list to 4D array:\n",
    "    X = np.expand_dims(np.array(list_image_2d), -1)\n",
    "    X = X / 255  \n",
    "    \n",
    "    print(\"Converting emotion to categorical n-array ...\")\n",
    "    Y = to_categorical(d.emotion, CLASS_NUMBER)\n",
    "    \n",
    "    print(f\"The given dataset has been converted to {X.shape} array\")\n",
    "    \n",
    "    return X, Y"
   ]
  },
  {
   "cell_type": "markdown",
   "metadata": {},
   "source": [
    "<p>On applique la fonction <b><i>image_to_4d_array</i></b> sur les trois partitions</P>"
   ]
  },
  {
   "cell_type": "code",
   "execution_count": 6,
   "metadata": {},
   "outputs": [
    {
     "name": "stdout",
     "output_type": "stream",
     "text": [
      "Converting pixels to 2D image ...\n",
      "Converting emotion to categorical n-array ...\n",
      "The given dataset has been converted to (28709, 48, 48, 1) array\n",
      "Converting pixels to 2D image ...\n",
      "Converting emotion to categorical n-array ...\n",
      "The given dataset has been converted to (3589, 48, 48, 1) array\n",
      "Converting pixels to 2D image ...\n",
      "Converting emotion to categorical n-array ...\n",
      "The given dataset has been converted to (3589, 48, 48, 1) array\n"
     ]
    }
   ],
   "source": [
    "X_train, Y_train = image_to_4d_array(df_training)\n",
    "X_test, Y_test = image_to_4d_array(df_test)\n",
    "X_valid, Y_valid = image_to_4d_array(df_validation)"
   ]
  },
  {
   "cell_type": "markdown",
   "metadata": {},
   "source": [
    "<h3>Fonction <i>get_model_v23</i></h3>\n",
    "<p><ul>\n",
    "<li>Cette fonction <b style=\"backgroud-color:powerblue\"><i>get_model_v23</i></b> peut prendre seulement quelques hyperparametres</li>\n",
    "<li>Elle appelle <i style=\"color:blue\">keras.models.Sequential</i> qui nous permet de construire un modele cnn</li>\n",
    "<li>Les valeurs par defaut sont notre choix entre les meilleures, mais elle laisse des chances pour utilisateur de les choisir</li>\n",
    "<li>Elle retourne un architecture d'un modele Sequential qu'on peut l'entrainner et le tester</li>\n",
    "</ul></p>"
   ]
  },
  {
   "cell_type": "markdown",
   "metadata": {},
   "source": [
    "<h4>Points essentiels de la fonction <i>get_model_v23</i></h4>\n",
    "<p><ol>\n",
    "<li>Nombre de couche est 5 par defaut, mais elle peut etre un entier de votre choix</li>\n",
    "<li>Les nombres de filtre doivent en rapport avec le nombre de couche, preferable plus elevé pour les couches profondes.</li>\n",
    "<li>Les kernel sizes doivent en rapport avec le nombre de couche, preferable impaire et le plus petit que possible</li>\n",
    "<li>Les pooling size doivent en rapport avec le nombre de couche, preferablement petit ou zero </li>\n",
    "<li>Les dropout values doivent en rapport avec le nombre de couche aussi</li>\n",
    "</ul></p>"
   ]
  },
  {
   "cell_type": "code",
   "execution_count": 7,
   "metadata": {},
   "outputs": [],
   "source": [
    "def get_model_v23(num_layers=5, lf=256, ld=0.5,\n",
    "                  num_filtre=(16, 32, 64, 128, 256), \n",
    "                  k_size=(3,3,3,3,3), \n",
    "                  p_size=(2,2,2,2,0), \n",
    "                  dropout=(0.10, 0.10, 0.15, 0.10, 0.10)):\n",
    "    \n",
    "    input_shape, num_classes, last_features, last_dropout = (48, 48, 1), 7, lf, ld\n",
    "    \n",
    "    model = Sequential()\n",
    "    \n",
    "    for layer in range(num_layers): \n",
    "        if layer == 0:\n",
    "            model.add(Conv2D(num_filtre[layer], kernel_size=k_size[layer], activation=tf.nn.relu, padding=\"same\", input_shape=input_shape))\n",
    "        else:\n",
    "            model.add(Conv2D(num_filtre[layer], kernel_size=k_size[layer], activation=tf.nn.relu, padding=\"same\"))\n",
    "            # normalization for each layer but not the first\n",
    "            model.add(BatchNormalization())\n",
    "        \n",
    "        # max pooling with the given choose\n",
    "        if p_size[layer] > 0:\n",
    "            model.add(MaxPooling2D(pool_size=(p_size[layer], p_size[layer])))\n",
    "        \n",
    "        # Dropout with the given choose\n",
    "        if dropout[layer] > 0:\n",
    "            model.add(Dropout(dropout[layer]))           \n",
    "        \n",
    "\n",
    "    model.add(Flatten())                          \n",
    "    model.add(Dense(last_features, activation=tf.nn.relu))\n",
    "    model.add(Dropout(last_dropout))\n",
    "    model.add(Dense(num_classes, activation=tf.nn.softmax))\n",
    "    model.compile(optimizer='adam', loss='categorical_crossentropy', metrics=['accuracy'])\n",
    "    return model"
   ]
  },
  {
   "cell_type": "markdown",
   "metadata": {},
   "source": [
    "<h3>Fonction <i>save_model</i></h3>\n",
    "<p><ul>\n",
    "<li>Cette fonction <b style=\"backgroud-color:powerblue\"><i>save_model</i></b> prend un Sequential model et nom de fichier</li>\n",
    "<li>Elle appelle <i style=\"color:blue\">keras.models.Sequential.to_json</i> et <i style=\"color:blue\">save_weights</i></li>\n",
    "</ul></p>"
   ]
  },
  {
   "cell_type": "code",
   "execution_count": 8,
   "metadata": {},
   "outputs": [],
   "source": [
    "def save_model(model, file_json=\"\", file_weight=\"\", workdir=\"\"):\n",
    "    # serialize model to JSON\n",
    "    model_json = model.to_json()\n",
    "    projet_dir = workdir if len(workdir)>0 else \"C:\\\\Users\\\\jeang\\\\Documents\\\\BDEB\\\\A62\\\\ProSyn3\"\n",
    "    model_filename = 'fer.json' if file_json==\"\" else file_json\n",
    "    with open(os.path.join(projet_dir, model_filename), \"w\") as json_file:\n",
    "        json_file.write(model_json)\n",
    "\n",
    "    # serialize weights to HDF5\n",
    "    # model.save_weights(\"C:\\\\Users\\\\Nisha Haulkhory\\\\projet de synthese\\\\GIT\\\\ProSyn3\\\\fer.h5\")\n",
    "    weight_filename = 'fer.h5' if file_weight==\"\" else file_weight\n",
    "    model.save_weights(os.path.join(projet_dir, weight_filename))\n",
    "    print(\"Saved model to disk done\")"
   ]
  },
  {
   "cell_type": "markdown",
   "metadata": {},
   "source": [
    "<h3>Fonction <i>show_confusion_matrix</i></h3>\n",
    "<p><ul>\n",
    "    <li>Cette fonction <b style=\"backgroud-color:powerblue\"><i>show_confusion_matrix</i></b> prend comme entree un model</li>\n",
    "    <li>Elle appelle <i style=\"color:blue\">model.predict</i> et le testset pour y_pred</li>\n",
    "    <li>Elle compare y_pred avec les valeurs real pour construire la matrix de confusion</li>\n",
    "    <li>Elle normalize la matrix de confusion car les cibles dans notre données originales n'est pas uniforme </li>\n",
    "    <li>Mais ceci pourrait déclencher d'erreur pour les classes manquantes car Div_by_zero donne NA</li>\n",
    "</ul></p>"
   ]
  },
  {
   "cell_type": "code",
   "execution_count": 9,
   "metadata": {},
   "outputs": [],
   "source": [
    "def show_confusion_matrix(model, x_test=X_test, y=df_test.emotion):\n",
    "    submission = pd.DataFrame(model.predict(x_test))\n",
    "    submission['label'] = submission.idxmax(axis=1)\n",
    "    cm = confusion_matrix(submission['label'], y)               # df_test['emotion'])\n",
    "    cm = cm.astype('float') / cm.sum(axis=1)[:, np.newaxis]\n",
    "    cm = cm.round(2)\n",
    "    return pd.DataFrame(cm)"
   ]
  },
  {
   "cell_type": "markdown",
   "metadata": {},
   "source": [
    "<h3>Class <i>BalancedDataGenerator</i></h3>\n",
    "<p><ul>\n",
    "<li>Cette class <b style=\"backgroud-color:powerblue\"><i>BalancedDataGenerator</i></b> est trouve sur web pour imbalanced dataset</li>\n",
    "<li>Elle select non uniformement les echantillons pour les agumenter et finir avec relativement uniform dataset</li>\n",
    "</ul></p>"
   ]
  },
  {
   "cell_type": "code",
   "execution_count": 25,
   "metadata": {},
   "outputs": [],
   "source": [
    "# Je n'ai pas bien compris cette class encore\n",
    "# Le résultat est aussi hors ce qui prédire dans le web\n",
    "class BalancedDataGenerator(Sequence):\n",
    "    \"\"\"ImageDataGenerator + RandomOversampling\"\"\"\n",
    "    def __init__(self, x, y, datagen, batch_size=32):\n",
    "        self.datagen = datagen\n",
    "        self.batch_size = min(batch_size, x.shape[0])\n",
    "        datagen.fit(x)  \n",
    "        self.gen, self.steps_per_epoch = balanced_batch_generator(x.reshape(x.shape[0], -1), y, \n",
    "                                                                  sampler=RandomOverSampler(), \n",
    "                                                                  batch_size=self.batch_size, keep_sparse=True)\n",
    "        self._shape = (self.steps_per_epoch * batch_size, *x.shape[1:])\n",
    "        \n",
    "    def __len__(self):\n",
    "        return self.steps_per_epoch\n",
    "\n",
    "    def __getitem__(self, idx):\n",
    "        x_batch, y_batch = self.gen.__next__()\n",
    "        x_batch = x_batch.reshape(-1, *self._shape[1:])\n",
    "        return self.datagen.flow(x_batch, y_batch, batch_size=self.batch_size).next()"
   ]
  },
  {
   "cell_type": "markdown",
   "metadata": {},
   "source": [
    "<h3>Objet <i>ImageDataGenerator</i></h3>\n",
    "<p><ul>\n",
    "<li>Cette instance d'objet <b style=\"backgroud-color:powerblue\"><i>datagen</i></b> est utilisable dans plusieurs cas pour data augmentation</li>\n",
    "</ul></p>"
   ]
  },
  {
   "cell_type": "code",
   "execution_count": 11,
   "metadata": {},
   "outputs": [],
   "source": [
    "datagen = ImageDataGenerator(featurewise_center=False,\n",
    "                             featurewise_std_normalization=False,\n",
    "                             rotation_range=20,\n",
    "                             width_shift_range=0.15,\n",
    "                             height_shift_range=0.15,\n",
    "                             shear_range=0.15,\n",
    "                             zoom_range=0.15,\n",
    "                             horizontal_flip=True,\n",
    "                             vertical_flip=False)\n",
    "\n",
    "# bgen = BalancedDataGenerator(X_train, Y_train, datagen, batch_size=256)\n",
    "# steps_per_epoch = bgen.steps_per_epoch"
   ]
  },
  {
   "cell_type": "markdown",
   "metadata": {},
   "source": [
    "<h3>Fonction <i>uniform_data_aug_fit</i></h3>\n",
    "<p><ul>\n",
    "<li>Cette fonction <b style=\"backgroud-color:powerblue\"><i>uniform_data_aug_fit</i></b> prend comme entrees:\n",
    "<ol><li>un model a aprendre</li>\n",
    "<li>un instance ImageDataGenerator</li>\n",
    "<li>le train set et la validation set</li>\n",
    "<li>et la taille de batch bs</li></ol></li>\n",
    "<li>Elle calcule le nombre de <i style=\"color:blue\">steps_per_epoch</i> pour controler le trade-off temps et performance</li>\n",
    "<li>La difference est qu'elle n'utilise pas le meme taux de augmentation, mias plus grand pour les classes moins populaires</li>\n",
    "<li>Elle appelle la fonction <i style=\"color:blue\">model.fit_generator</i> pour entrainer le modele</li>\n",
    "</ul></p>"
   ]
  },
  {
   "cell_type": "code",
   "execution_count": 12,
   "metadata": {},
   "outputs": [],
   "source": [
    "def uniform_data_aug_fit(model, dgen, x_train, y_train, valid, bs, taux=9, ep=10):\n",
    "    taux_augmented_data = min(taux, 48)  \n",
    "    batch_size = min(bs, x_train.shape[0])\n",
    "    steps_per_epoch = int(x_train.shape[0] * taux_augmented_data / batch_size)\n",
    "    l = model.fit_generator(dgen.flow(x_train, y_train, batch_size=batch_size), epochs=ep, validation_data=valid,\n",
    "                            verbose = 1, steps_per_epoch = steps_per_epoch)\n",
    "    return model, l"
   ]
  },
  {
   "cell_type": "markdown",
   "metadata": {},
   "source": [
    "<h3>Fonction <i>balance_fit</i></h3>\n",
    "<p><ul>\n",
    "<li>Cette fonction <b style=\"backgroud-color:powerblue\"><i>balance_fit</i></b> prend un model et un instance ImageDataGenerator</li>\n",
    "<li>Elle appelle la fonction <i style=\"color:blue\">uniform_data_aug_fit</i> pour faire apprendre le model</li>\n",
    "<li>La difference est qu'elle n'utilise pas le meme taux de augmentation, plus grand pour les classes moins populaires</li>\n",
    "<li>En effet, elle entraine 3 fois le modele avec 3 train set differentes </li>\n",
    "</ul></p>"
   ]
  },
  {
   "cell_type": "code",
   "execution_count": 26,
   "metadata": {},
   "outputs": [],
   "source": [
    "def balance_fit(model, dgen, valid=(X_valid, Y_valid), bs=32, ep=10, fnm='fer.json', fnw='fer.h5'):\n",
    "    \n",
    "    #train the model with uniform_data_aug_fit but the trainset without the most popular calss 3\n",
    "    train_o = df_training[(df_training.emotion != 3)]\n",
    "    valid_o = df_validation[(df_validation.emotion != 3)]\n",
    "    test_o = df_test[(df_test.emotion != 3)]\n",
    "    \n",
    "    x, y = image_to_4d_array(train_o)\n",
    "    validation = image_to_4d_array(valid_o)\n",
    "    x_test, y_test = image_to_4d_array(test_o)\n",
    "    \n",
    "    model, l = uniform_data_aug_fit(model, dgen, x, y, validation, bs, taux=12, ep=ep)\n",
    "    show_confusion_matrix(model, x_test=x_test, y=test_o.emotion)\n",
    "    sns.lineplot(data=pd.DataFrame(l.history)[['accuracy','val_accuracy']], palette=\"tab10\", linewidth=2.5);\n",
    "    print(\"Evaluating the model on test data ...\")\n",
    "    results = model.evaluate(x_test, y_test)\n",
    "    print(\"test loss, test acc:\", results)\n",
    "    \n",
    "    # second train the model with all train set, validation set and test set without data augmentation\n",
    "    l = model.fit(x=X_train, y=Y_train, validation_data=valid, batch_size=256, epochs=ep)\n",
    "        \n",
    "    return l "
   ]
  },
  {
   "cell_type": "markdown",
   "metadata": {},
   "source": [
    "<h3>Fonction <i>show_save_trained_model</i></h3>\n",
    "<p><ul>\n",
    "<li>Apres avoir entraine un modele, nous voulons souvent savoir l'histoire d'apprentissage, la performance, et sauvegarder le modele</li>\n",
    "<li>Cette fonction <b style=\"backgroud-color:powerblue\"><i>show_save_trained_model</i></b> donne une flexibilite pour different methode d'apprentissage</li>\n",
    "<li>Elle prend le model et histoire d'apprentissage comme entrees</li>\n",
    "<li>Elle compare avec les test set pour evaluer le model</li>\n",
    "<li>Elle imprine aussi la matrix de confusion </li>\n",
    "</ul></p>"
   ]
  },
  {
   "cell_type": "code",
   "execution_count": 14,
   "metadata": {},
   "outputs": [],
   "source": [
    "def show_save_trained_model(model, history, fnm, fnw, x_test=X_test, y_test=Y_test, y=df_test.emotion):\n",
    "    sns.lineplot(data=pd.DataFrame(history.history)[['accuracy','val_accuracy']], palette=\"tab10\", linewidth=2.5);\n",
    "    save_model(model, file_json=fnm, file_weight=fnw)\n",
    "    print(\"Evaluating the model on test data ...\")\n",
    "    results = model.evaluate(x_test, y_test)\n",
    "    print(\"test loss, test acc:\", results)\n",
    "    print(show_confusion_matrix(model, x_test, y))"
   ]
  },
  {
   "cell_type": "markdown",
   "metadata": {},
   "source": [
    "<h3>Fonction <i>fit_test_save_model</i></h3>\n",
    "<p><ul>\n",
    "<li>Cette fonction <b style=\"backgroud-color:powerblue\"><i>fit_test_save_model</i></b> regroupe plusieurs commandes</li>\n",
    "<li>Elle fournie une interface pour l'apprentissage, evaluation, visualisation, et sauvegarde du model cnn</li>\n",
    "<li>Si le drapeau <b style=\"backgroud-color:powerblue\"><i>aug</i></b> est False, elle apprend le model avec trainset et validation set</li>\n",
    "<li>Si le drapeau <b style=\"backgroud-color:powerblue\"><i>aug</i></b> est True, elle apprend le model avec augmented trainset</li>\n",
    "<li>Une fois l'apprentissage se termine, elle execute des commandes pour display l'histoire d'apprentissage, sauvegarder le model etc</li>\n",
    "</ul></p>"
   ]
  },
  {
   "cell_type": "code",
   "execution_count": 27,
   "metadata": {},
   "outputs": [],
   "source": [
    "def fit_test_save_model(model, x_train=X_train, y_train=Y_train, valid=(X_valid, Y_valid), \n",
    "                        aug=True, imbalance=False, dgen = datagen,\n",
    "                        bs=32, ep=10, fnm='fer.json', fnw='fer.h5'):\n",
    "    \n",
    "    print(\"Fitting the model ...\")\n",
    "    batch_size = min(bs, x_train.shape[0])\n",
    "    \n",
    "    if not aug:\n",
    "        l = model.fit(x=x_train, y=y_train, validation_data=valid, batch_size=batch_size, epochs=ep)\n",
    "        \n",
    "    elif imbalance:\n",
    "        # I prefer balance_fit because I know how it works\n",
    "        l = balance_fit(model, dgen, valid, bs=batch_size, ep=ep)\n",
    "        \n",
    "        # I tried this method but I did not get reasonable result: There are something wrong\n",
    "        # bgen = BalancedDataGenerator(x_train, y_train, dgen, batch_size=batch_size)\n",
    "        # steps_per_epoch = bgen.steps_per_epoch\n",
    "        # l = model.fit_generator(bgen, steps_per_epoch, epochs=ep, validation_data=valid, verbose = 1)\n",
    "    \n",
    "    else:\n",
    "        _, l = uniform_data_aug_fit(model, dgen, x_train, y_train, taux=9, bs=batch_size, ep=ep, valid=valid)\n",
    "\n",
    "    show_save_trained_model(model, l, fnm, fnw)\n",
    "    \n",
    "    return l"
   ]
  },
  {
   "cell_type": "markdown",
   "metadata": {},
   "source": [
    "<h3>1er exemple de construction de CNN model</h3>\n",
    "<p>Par defaut, il y a 5 couches conv2D, la taille k_size est (3,3) pour chaque couche</p>\n",
    "<p>Notons que les valeurs dropout sont 0.1 pour ces 5 couches, mais last_dropout(ld) est 0.45</p>"
   ]
  },
  {
   "cell_type": "code",
   "execution_count": 30,
   "metadata": {},
   "outputs": [
    {
     "name": "stdout",
     "output_type": "stream",
     "text": [
      "Model: \"sequential_3\"\n",
      "_________________________________________________________________\n",
      "Layer (type)                 Output Shape              Param #   \n",
      "=================================================================\n",
      "conv2d_11 (Conv2D)           (None, 48, 48, 16)        160       \n",
      "_________________________________________________________________\n",
      "max_pooling2d_9 (MaxPooling2 (None, 24, 24, 16)        0         \n",
      "_________________________________________________________________\n",
      "dropout_13 (Dropout)         (None, 24, 24, 16)        0         \n",
      "_________________________________________________________________\n",
      "conv2d_12 (Conv2D)           (None, 24, 24, 32)        4640      \n",
      "_________________________________________________________________\n",
      "batch_normalization_9 (Batch (None, 24, 24, 32)        128       \n",
      "_________________________________________________________________\n",
      "max_pooling2d_10 (MaxPooling (None, 12, 12, 32)        0         \n",
      "_________________________________________________________________\n",
      "dropout_14 (Dropout)         (None, 12, 12, 32)        0         \n",
      "_________________________________________________________________\n",
      "conv2d_13 (Conv2D)           (None, 12, 12, 64)        18496     \n",
      "_________________________________________________________________\n",
      "batch_normalization_10 (Batc (None, 12, 12, 64)        256       \n",
      "_________________________________________________________________\n",
      "max_pooling2d_11 (MaxPooling (None, 6, 6, 64)          0         \n",
      "_________________________________________________________________\n",
      "dropout_15 (Dropout)         (None, 6, 6, 64)          0         \n",
      "_________________________________________________________________\n",
      "conv2d_14 (Conv2D)           (None, 6, 6, 128)         73856     \n",
      "_________________________________________________________________\n",
      "batch_normalization_11 (Batc (None, 6, 6, 128)         512       \n",
      "_________________________________________________________________\n",
      "max_pooling2d_12 (MaxPooling (None, 3, 3, 128)         0         \n",
      "_________________________________________________________________\n",
      "dropout_16 (Dropout)         (None, 3, 3, 128)         0         \n",
      "_________________________________________________________________\n",
      "conv2d_15 (Conv2D)           (None, 3, 3, 256)         295168    \n",
      "_________________________________________________________________\n",
      "batch_normalization_12 (Batc (None, 3, 3, 256)         1024      \n",
      "_________________________________________________________________\n",
      "dropout_17 (Dropout)         (None, 3, 3, 256)         0         \n",
      "_________________________________________________________________\n",
      "flatten_3 (Flatten)          (None, 2304)              0         \n",
      "_________________________________________________________________\n",
      "dense_5 (Dense)              (None, 256)               590080    \n",
      "_________________________________________________________________\n",
      "dropout_18 (Dropout)         (None, 256)               0         \n",
      "_________________________________________________________________\n",
      "dense_6 (Dense)              (None, 7)                 1799      \n",
      "=================================================================\n",
      "Total params: 986,119\n",
      "Trainable params: 985,159\n",
      "Non-trainable params: 960\n",
      "_________________________________________________________________\n"
     ]
    }
   ],
   "source": [
    "#Same architecture will used for 3nd eample\n",
    "model = get_model_v23(num_filtre=(16, 32, 64, 128, 256), lf=256, ld=0.45, p_size=(2,2,2,2,0), dropout=(0.1, 0.1, 0.1, 0.1, 0.1))\n",
    "model.summary()"
   ]
  },
  {
   "cell_type": "code",
   "execution_count": 31,
   "metadata": {},
   "outputs": [
    {
     "name": "stdout",
     "output_type": "stream",
     "text": [
      "Fitting the model ...\n",
      "Epoch 1/25\n",
      "8074/8074 [==============================] - 584s 72ms/step - loss: 1.6382 - accuracy: 0.3411 - val_loss: 1.3259 - val_accuracy: 0.4762\n",
      "Epoch 2/25\n",
      "8074/8074 [==============================] - 577s 71ms/step - loss: 1.3792 - accuracy: 0.4744 - val_loss: 1.2035 - val_accuracy: 0.5358\n",
      "Epoch 3/25\n",
      "8074/8074 [==============================] - 579s 72ms/step - loss: 1.2807 - accuracy: 0.5168 - val_loss: 1.1787 - val_accuracy: 0.5573\n",
      "Epoch 4/25\n",
      "8074/8074 [==============================] - 570s 71ms/step - loss: 1.2145 - accuracy: 0.5439 - val_loss: 1.1398 - val_accuracy: 0.5731\n",
      "Epoch 5/25\n",
      "8074/8074 [==============================] - 569s 71ms/step - loss: 1.1737 - accuracy: 0.5576 - val_loss: 1.1048 - val_accuracy: 0.5887\n",
      "Epoch 6/25\n",
      "8074/8074 [==============================] - 559s 69ms/step - loss: 1.1448 - accuracy: 0.5695 - val_loss: 1.0495 - val_accuracy: 0.6077\n",
      "Epoch 7/25\n",
      "8074/8074 [==============================] - 547s 68ms/step - loss: 1.1209 - accuracy: 0.5773 - val_loss: 1.0435 - val_accuracy: 0.6108\n",
      "Epoch 8/25\n",
      "8074/8074 [==============================] - 549s 68ms/step - loss: 1.1050 - accuracy: 0.5842 - val_loss: 1.0757 - val_accuracy: 0.6021\n",
      "Epoch 9/25\n",
      "8074/8074 [==============================] - 547s 68ms/step - loss: 1.0912 - accuracy: 0.5889 - val_loss: 1.0735 - val_accuracy: 0.5996\n",
      "Epoch 10/25\n",
      "8074/8074 [==============================] - 548s 68ms/step - loss: 1.0781 - accuracy: 0.5936 - val_loss: 1.0436 - val_accuracy: 0.6147\n",
      "Epoch 11/25\n",
      "8074/8074 [==============================] - 549s 68ms/step - loss: 1.0664 - accuracy: 0.5992 - val_loss: 1.0060 - val_accuracy: 0.6314\n",
      "Epoch 12/25\n",
      "8074/8074 [==============================] - 549s 68ms/step - loss: 1.0563 - accuracy: 0.6034 - val_loss: 1.0545 - val_accuracy: 0.6275\n",
      "Epoch 13/25\n",
      "8074/8074 [==============================] - 560s 69ms/step - loss: 1.0490 - accuracy: 0.6061 - val_loss: 1.0319 - val_accuracy: 0.6272\n",
      "Epoch 14/25\n",
      "8074/8074 [==============================] - 574s 71ms/step - loss: 1.0408 - accuracy: 0.6094 - val_loss: 1.0370 - val_accuracy: 0.6199\n",
      "Epoch 15/25\n",
      "8074/8074 [==============================] - 575s 71ms/step - loss: 1.0331 - accuracy: 0.6132 - val_loss: 1.0081 - val_accuracy: 0.6330\n",
      "Epoch 16/25\n",
      "8074/8074 [==============================] - 585s 72ms/step - loss: 1.0239 - accuracy: 0.6156 - val_loss: 1.0248 - val_accuracy: 0.6255\n",
      "Epoch 17/25\n",
      "8074/8074 [==============================] - 585s 72ms/step - loss: 1.0233 - accuracy: 0.6166 - val_loss: 1.0162 - val_accuracy: 0.6303\n",
      "Epoch 18/25\n",
      "8074/8074 [==============================] - 584s 72ms/step - loss: 1.0128 - accuracy: 0.6201 - val_loss: 1.0291 - val_accuracy: 0.6294\n",
      "Epoch 19/25\n",
      "8074/8074 [==============================] - 561s 70ms/step - loss: 1.0109 - accuracy: 0.6206 - val_loss: 1.0848 - val_accuracy: 0.5996\n",
      "Epoch 20/25\n",
      "8074/8074 [==============================] - 552s 68ms/step - loss: 1.0017 - accuracy: 0.6239 - val_loss: 1.0607 - val_accuracy: 0.6258\n",
      "Epoch 21/25\n",
      "8074/8074 [==============================] - 556s 69ms/step - loss: 1.0003 - accuracy: 0.6252 - val_loss: 1.0153 - val_accuracy: 0.6339\n",
      "Epoch 22/25\n",
      "8074/8074 [==============================] - 582s 72ms/step - loss: 0.9919 - accuracy: 0.6284 - val_loss: 1.0155 - val_accuracy: 0.6520\n",
      "Epoch 23/25\n",
      "8074/8074 [==============================] - 582s 72ms/step - loss: 0.9880 - accuracy: 0.6284 - val_loss: 1.0458 - val_accuracy: 0.6417\n",
      "Epoch 24/25\n",
      "8074/8074 [==============================] - 556s 69ms/step - loss: 0.9852 - accuracy: 0.6304 - val_loss: 1.0280 - val_accuracy: 0.6328\n",
      "Epoch 25/25\n",
      "8074/8074 [==============================] - 545s 67ms/step - loss: 0.9800 - accuracy: 0.6328 - val_loss: 0.9884 - val_accuracy: 0.6500\n",
      "Saved model to disk done\n",
      "Evaluating the model on test data ...\n",
      "3589/3589 [==============================] - 2s 423us/step\n",
      "test loss, test acc: [0.9404393588310831, 0.6609083414077759]\n",
      "      0     1     2     3     4     5     6\n",
      "0  0.59  0.04  0.16  0.03  0.10  0.03  0.05\n",
      "1  0.20  0.62  0.08  0.00  0.05  0.02  0.02\n",
      "2  0.11  0.01  0.56  0.03  0.17  0.09  0.04\n",
      "3  0.03  0.00  0.03  0.82  0.04  0.02  0.06\n",
      "4  0.10  0.00  0.15  0.04  0.56  0.01  0.13\n",
      "5  0.01  0.00  0.13  0.05  0.02  0.76  0.02\n",
      "6  0.09  0.00  0.09  0.03  0.18  0.02  0.58\n"
     ]
    },
    {
     "data": {
      "image/png": "[encoded data removed]",
      "text/plain": [
       "<Figure size 432x288 with 1 Axes>"
      ]
     },
     "metadata": {
      "needs_background": "light"
     },
     "output_type": "display_data"
    }
   ],
   "source": [
    "l = fit_test_save_model(model, bs=32, ep=25, fnm='fer238.json', fnw='fer238.h5')"
   ]
  },
  {
   "cell_type": "markdown",
   "metadata": {},
   "source": [
    "<h4>Commentaires</h4>\n",
    "<p>Tand qu'il n'y a pas de overfitting, un modele peut etre continuellement entrainne jusqu'a la performance desire. Ceci est vrai au moins sur le même training set.<br> Nous constatons, accuracy s'améliore dans chaque epoch, et val_accuracy a aussi unetendance d'augmenter. Dans chaque epoch, il y a 8074 steps, ceci est definie par la taille de notre training set, le taux d'augmentation, et la batch_size (28709*9/32).<br> Notons que ce nombre de steps doit etre assez eleve pour un meilleur apprentssage. Mais le temps d'apprentissage augmente aussi rapidement avec ce nombre. Pour rouler la commande ci-dessus, mon laptop a travaille forte pendant environ 14000 secondes, ou 3.89 heurs.</p>\n",
    "<p>Effet nombre filtres: forte nombre filtre est preferable pour chercher features, mais non favorable pour overfitting. Non plus pour le temps d'apprentissage. Le plus important, mettre le nombre de filtre plus elevé dans les couches profondes. Ceci est favorable pour réduire le temps d'apprentissage.</p>\n",
    "<p>Effet dropout: forte dropout est preferable pour controler overfitting, mais non favorable pour ralentir la vitesse d'apprentissage. C'est un trade-off dans l'apprentissage par CNN</p>\n",
    "<p>Meilleur performance obtenu au test set avant était 64.5% lorsque dropout=(0.1,0.1,0.1,0.1,0.1), ld=0.35, ep=10. Avec les condition ci-dessus, nous avons eu de encore meilleure performance: 66%</p>"
   ]
  },
  {
   "cell_type": "markdown",
   "metadata": {},
   "source": [
    "<h3>Proposition nouveau essai</h3>\n",
    "<p>Pouvons-nous entrainer un modele avec different train set? Si l'apprentissage du modele s'ameliore continuellement malgre le changement de train set, nous pouvons traiter le probleme imbalance de notre train set. En effet, la class la plus populaire happy(3) a une performance environ 91% mais la class sad(4) a seulement 44% selon un matrix de confusion.<br>Si, au lieu d'augmenter tous train set 9 fois, on augmente seulement 12 fois les autre classes moins populaires, on pourrait sauve du temps d'apprentissage.<br>\n",
    "En basant sur cette proposition, nous allons traiter notre defi d'over-fitting et unbalanced dataset ci-dessous.<br>En 3eme exemple, nous allons reprendre cette technique.</p>"
   ]
  },
  {
   "cell_type": "code",
   "execution_count": 39,
   "metadata": {},
   "outputs": [
    {
     "name": "stdout",
     "output_type": "stream",
     "text": [
      "Model: \"sequential_5\"\n",
      "_________________________________________________________________\n",
      "Layer (type)                 Output Shape              Param #   \n",
      "=================================================================\n",
      "conv2d_21 (Conv2D)           (None, 48, 48, 16)        160       \n",
      "_________________________________________________________________\n",
      "max_pooling2d_17 (MaxPooling (None, 24, 24, 16)        0         \n",
      "_________________________________________________________________\n",
      "dropout_25 (Dropout)         (None, 24, 24, 16)        0         \n",
      "_________________________________________________________________\n",
      "conv2d_22 (Conv2D)           (None, 24, 24, 32)        4640      \n",
      "_________________________________________________________________\n",
      "batch_normalization_17 (Batc (None, 24, 24, 32)        128       \n",
      "_________________________________________________________________\n",
      "max_pooling2d_18 (MaxPooling (None, 12, 12, 32)        0         \n",
      "_________________________________________________________________\n",
      "dropout_26 (Dropout)         (None, 12, 12, 32)        0         \n",
      "_________________________________________________________________\n",
      "conv2d_23 (Conv2D)           (None, 12, 12, 64)        18496     \n",
      "_________________________________________________________________\n",
      "batch_normalization_18 (Batc (None, 12, 12, 64)        256       \n",
      "_________________________________________________________________\n",
      "max_pooling2d_19 (MaxPooling (None, 6, 6, 64)          0         \n",
      "_________________________________________________________________\n",
      "dropout_27 (Dropout)         (None, 6, 6, 64)          0         \n",
      "_________________________________________________________________\n",
      "conv2d_24 (Conv2D)           (None, 6, 6, 128)         73856     \n",
      "_________________________________________________________________\n",
      "batch_normalization_19 (Batc (None, 6, 6, 128)         512       \n",
      "_________________________________________________________________\n",
      "max_pooling2d_20 (MaxPooling (None, 3, 3, 128)         0         \n",
      "_________________________________________________________________\n",
      "dropout_28 (Dropout)         (None, 3, 3, 128)         0         \n",
      "_________________________________________________________________\n",
      "conv2d_25 (Conv2D)           (None, 3, 3, 256)         295168    \n",
      "_________________________________________________________________\n",
      "batch_normalization_20 (Batc (None, 3, 3, 256)         1024      \n",
      "_________________________________________________________________\n",
      "dropout_29 (Dropout)         (None, 3, 3, 256)         0         \n",
      "_________________________________________________________________\n",
      "flatten_5 (Flatten)          (None, 2304)              0         \n",
      "_________________________________________________________________\n",
      "dense_9 (Dense)              (None, 256)               590080    \n",
      "_________________________________________________________________\n",
      "dropout_30 (Dropout)         (None, 256)               0         \n",
      "_________________________________________________________________\n",
      "dense_10 (Dense)             (None, 7)                 1799      \n",
      "=================================================================\n",
      "Total params: 986,119\n",
      "Trainable params: 985,159\n",
      "Non-trainable params: 960\n",
      "_________________________________________________________________\n"
     ]
    }
   ],
   "source": [
    "model = get_model_v23(num_filtre=(16, 32, 64, 128, 256), lf=256, ld=0.5, p_size=(2,2,2,2,0), dropout=(0.1, 0.1, 0.1, 0.1, 0.1))\n",
    "model.summary()"
   ]
  },
  {
   "cell_type": "code",
   "execution_count": 40,
   "metadata": {},
   "outputs": [
    {
     "name": "stdout",
     "output_type": "stream",
     "text": [
      "Converting pixels to 2D image ...\n",
      "Converting emotion to categorical n-array ...\n",
      "The given dataset has been converted to (21494, 48, 48, 1) array\n",
      "Converting pixels to 2D image ...\n",
      "Converting emotion to categorical n-array ...\n",
      "The given dataset has been converted to (2694, 48, 48, 1) array\n",
      "Converting pixels to 2D image ...\n",
      "Converting emotion to categorical n-array ...\n",
      "The given dataset has been converted to (2710, 48, 48, 1) array\n",
      "Epoch 1/10\n",
      "6045/6045 [==============================] - 421s 70ms/step - loss: 1.5641 - accuracy: 0.3172 - val_loss: 1.4041 - val_accuracy: 0.4042\n",
      "Epoch 2/10\n",
      "6045/6045 [==============================] - 424s 70ms/step - loss: 1.4160 - accuracy: 0.4104 - val_loss: 1.3061 - val_accuracy: 0.4636\n",
      "Epoch 3/10\n",
      "6045/6045 [==============================] - 430s 71ms/step - loss: 1.3343 - accuracy: 0.4590 - val_loss: 1.2353 - val_accuracy: 0.5026\n",
      "Epoch 4/10\n",
      "6045/6045 [==============================] - 430s 71ms/step - loss: 1.2725 - accuracy: 0.4901 - val_loss: 1.1711 - val_accuracy: 0.5290\n",
      "Epoch 5/10\n",
      "6045/6045 [==============================] - 429s 71ms/step - loss: 1.2332 - accuracy: 0.5065 - val_loss: 1.2013 - val_accuracy: 0.5290\n",
      "Epoch 6/10\n",
      "6045/6045 [==============================] - 417s 69ms/step - loss: 1.2021 - accuracy: 0.5219 - val_loss: 1.1663 - val_accuracy: 0.5393\n",
      "Epoch 7/10\n",
      "6045/6045 [==============================] - 407s 67ms/step - loss: 1.1778 - accuracy: 0.5318 - val_loss: 1.1294 - val_accuracy: 0.5624\n",
      "Epoch 8/10\n",
      "6045/6045 [==============================] - 416s 69ms/step - loss: 1.1568 - accuracy: 0.5404 - val_loss: 1.1699 - val_accuracy: 0.5483\n",
      "Epoch 9/10\n",
      "6045/6045 [==============================] - 415s 69ms/step - loss: 1.1411 - accuracy: 0.5463 - val_loss: 1.3817 - val_accuracy: 0.5063\n",
      "Epoch 10/10\n",
      "6045/6045 [==============================] - 413s 68ms/step - loss: 1.1240 - accuracy: 0.5545 - val_loss: 1.1269 - val_accuracy: 0.5638\n"
     ]
    },
    {
     "ename": "TypeError",
     "evalue": "show_confusion_matrix() got an unexpected keyword argument 'x_test'",
     "output_type": "error",
     "traceback": [
      "\u001b[1;31m---------------------------------------------------------------------------\u001b[0m",
      "\u001b[1;31mTypeError\u001b[0m                                 Traceback (most recent call last)",
      "\u001b[1;32m<ipython-input-40-26fbe86efc37>\u001b[0m in \u001b[0;36m<module>\u001b[1;34m\u001b[0m\n\u001b[0;32m      8\u001b[0m \u001b[1;33m\u001b[0m\u001b[0m\n\u001b[0;32m      9\u001b[0m \u001b[0mmodel\u001b[0m\u001b[1;33m,\u001b[0m \u001b[0ml\u001b[0m \u001b[1;33m=\u001b[0m \u001b[0muniform_data_aug_fit\u001b[0m\u001b[1;33m(\u001b[0m\u001b[0mmodel\u001b[0m\u001b[1;33m,\u001b[0m \u001b[0mdatagen\u001b[0m\u001b[1;33m,\u001b[0m \u001b[0mx\u001b[0m\u001b[1;33m,\u001b[0m \u001b[0my\u001b[0m\u001b[1;33m,\u001b[0m \u001b[0mvalid\u001b[0m\u001b[1;33m=\u001b[0m\u001b[0mvalidation\u001b[0m\u001b[1;33m,\u001b[0m \u001b[0mbs\u001b[0m\u001b[1;33m=\u001b[0m\u001b[1;36m32\u001b[0m\u001b[1;33m,\u001b[0m \u001b[0mtaux\u001b[0m\u001b[1;33m=\u001b[0m\u001b[1;36m9\u001b[0m\u001b[1;33m,\u001b[0m \u001b[0mep\u001b[0m\u001b[1;33m=\u001b[0m\u001b[1;36m10\u001b[0m\u001b[1;33m)\u001b[0m\u001b[1;33m\u001b[0m\u001b[1;33m\u001b[0m\u001b[0m\n\u001b[1;32m---> 10\u001b[1;33m \u001b[0mshow_confusion_matrix\u001b[0m\u001b[1;33m(\u001b[0m\u001b[0mmodel\u001b[0m\u001b[1;33m,\u001b[0m \u001b[0mx_test\u001b[0m\u001b[1;33m=\u001b[0m\u001b[0mx_test\u001b[0m\u001b[1;33m,\u001b[0m \u001b[0my\u001b[0m\u001b[1;33m=\u001b[0m\u001b[0mtest_o\u001b[0m\u001b[1;33m.\u001b[0m\u001b[0memotion\u001b[0m\u001b[1;33m)\u001b[0m\u001b[1;33m\u001b[0m\u001b[1;33m\u001b[0m\u001b[0m\n\u001b[0m\u001b[0;32m     11\u001b[0m \u001b[0msns\u001b[0m\u001b[1;33m.\u001b[0m\u001b[0mlineplot\u001b[0m\u001b[1;33m(\u001b[0m\u001b[0mdata\u001b[0m\u001b[1;33m=\u001b[0m\u001b[0mpd\u001b[0m\u001b[1;33m.\u001b[0m\u001b[0mDataFrame\u001b[0m\u001b[1;33m(\u001b[0m\u001b[0ml\u001b[0m\u001b[1;33m.\u001b[0m\u001b[0mhistory\u001b[0m\u001b[1;33m)\u001b[0m\u001b[1;33m[\u001b[0m\u001b[1;33m[\u001b[0m\u001b[1;34m'accuracy'\u001b[0m\u001b[1;33m,\u001b[0m\u001b[1;34m'val_accuracy'\u001b[0m\u001b[1;33m]\u001b[0m\u001b[1;33m]\u001b[0m\u001b[1;33m,\u001b[0m \u001b[0mpalette\u001b[0m\u001b[1;33m=\u001b[0m\u001b[1;34m\"tab10\"\u001b[0m\u001b[1;33m,\u001b[0m \u001b[0mlinewidth\u001b[0m\u001b[1;33m=\u001b[0m\u001b[1;36m2.5\u001b[0m\u001b[1;33m)\u001b[0m\u001b[1;33m;\u001b[0m\u001b[1;33m\u001b[0m\u001b[1;33m\u001b[0m\u001b[0m\n\u001b[0;32m     12\u001b[0m \u001b[0mprint\u001b[0m\u001b[1;33m(\u001b[0m\u001b[1;34m\"Evaluating the model on test data ...\"\u001b[0m\u001b[1;33m)\u001b[0m\u001b[1;33m\u001b[0m\u001b[1;33m\u001b[0m\u001b[0m\n",
      "\u001b[1;31mTypeError\u001b[0m: show_confusion_matrix() got an unexpected keyword argument 'x_test'"
     ]
    }
   ],
   "source": [
    "train_o = df_training[(df_training.emotion != 3)]\n",
    "valid_o = df_validation[(df_validation.emotion != 3)]\n",
    "test_o = df_test[(df_test.emotion != 3)]\n",
    "    \n",
    "x, y = image_to_4d_array(train_o)\n",
    "validation = image_to_4d_array(valid_o)\n",
    "x_test, y_test = image_to_4d_array(test_o)\n",
    "    \n",
    "model, l = uniform_data_aug_fit(model, datagen, x, y, valid=validation, bs=32, taux=9, ep=10)\n",
    "show_confusion_matrix(model, x_test=x_test, y=test_o.emotion)\n",
    "sns.lineplot(data=pd.DataFrame(l.history)[['accuracy','val_accuracy']], palette=\"tab10\", linewidth=2.5);\n",
    "print(\"Evaluating the model on test data ...\")\n",
    "results = model.evaluate(x_test, y_test)\n",
    "print(\"test loss, test acc:\", results)"
   ]
  },
  {
   "cell_type": "code",
   "execution_count": 44,
   "metadata": {},
   "outputs": [
    {
     "data": {
      "text/html": [
       "<div>\n",
       "<style scoped>\n",
       "    .dataframe tbody tr th:only-of-type {\n",
       "        vertical-align: middle;\n",
       "    }\n",
       "\n",
       "    .dataframe tbody tr th {\n",
       "        vertical-align: top;\n",
       "    }\n",
       "\n",
       "    .dataframe thead th {\n",
       "        text-align: right;\n",
       "    }\n",
       "</style>\n",
       "<table border=\"1\" class=\"dataframe\">\n",
       "  <thead>\n",
       "    <tr style=\"text-align: right;\">\n",
       "      <th></th>\n",
       "      <th>0</th>\n",
       "      <th>1</th>\n",
       "      <th>2</th>\n",
       "      <th>3</th>\n",
       "      <th>4</th>\n",
       "      <th>5</th>\n",
       "    </tr>\n",
       "  </thead>\n",
       "  <tbody>\n",
       "    <tr>\n",
       "      <th>0</th>\n",
       "      <td>0.54</td>\n",
       "      <td>0.05</td>\n",
       "      <td>0.16</td>\n",
       "      <td>0.13</td>\n",
       "      <td>0.06</td>\n",
       "      <td>0.06</td>\n",
       "    </tr>\n",
       "    <tr>\n",
       "      <th>1</th>\n",
       "      <td>0.12</td>\n",
       "      <td>0.62</td>\n",
       "      <td>0.08</td>\n",
       "      <td>0.08</td>\n",
       "      <td>0.04</td>\n",
       "      <td>0.04</td>\n",
       "    </tr>\n",
       "    <tr>\n",
       "      <th>2</th>\n",
       "      <td>0.09</td>\n",
       "      <td>0.00</td>\n",
       "      <td>0.65</td>\n",
       "      <td>0.09</td>\n",
       "      <td>0.12</td>\n",
       "      <td>0.05</td>\n",
       "    </tr>\n",
       "    <tr>\n",
       "      <th>3</th>\n",
       "      <td>0.11</td>\n",
       "      <td>0.01</td>\n",
       "      <td>0.22</td>\n",
       "      <td>0.52</td>\n",
       "      <td>0.01</td>\n",
       "      <td>0.12</td>\n",
       "    </tr>\n",
       "    <tr>\n",
       "      <th>4</th>\n",
       "      <td>0.02</td>\n",
       "      <td>0.00</td>\n",
       "      <td>0.15</td>\n",
       "      <td>0.02</td>\n",
       "      <td>0.80</td>\n",
       "      <td>0.01</td>\n",
       "    </tr>\n",
       "    <tr>\n",
       "      <th>5</th>\n",
       "      <td>0.11</td>\n",
       "      <td>0.00</td>\n",
       "      <td>0.11</td>\n",
       "      <td>0.21</td>\n",
       "      <td>0.03</td>\n",
       "      <td>0.54</td>\n",
       "    </tr>\n",
       "  </tbody>\n",
       "</table>\n",
       "</div>"
      ],
      "text/plain": [
       "      0     1     2     3     4     5\n",
       "0  0.54  0.05  0.16  0.13  0.06  0.06\n",
       "1  0.12  0.62  0.08  0.08  0.04  0.04\n",
       "2  0.09  0.00  0.65  0.09  0.12  0.05\n",
       "3  0.11  0.01  0.22  0.52  0.01  0.12\n",
       "4  0.02  0.00  0.15  0.02  0.80  0.01\n",
       "5  0.11  0.00  0.11  0.21  0.03  0.54"
      ]
     },
     "execution_count": 44,
     "metadata": {},
     "output_type": "execute_result"
    }
   ],
   "source": [
    "# Pour corriger les erreur ci-haute\n",
    "show_confusion_matrix(model, x_test=x_test, y=test_o.emotion)"
   ]
  },
  {
   "cell_type": "code",
   "execution_count": 45,
   "metadata": {},
   "outputs": [
    {
     "data": {
      "image/png": "[encoded data removed]",
      "text/plain": [
       "<Figure size 432x288 with 1 Axes>"
      ]
     },
     "metadata": {
      "needs_background": "light"
     },
     "output_type": "display_data"
    }
   ],
   "source": [
    "# Pour corriger les erreur ci-haute\n",
    "sns.lineplot(data=pd.DataFrame(l.history)[['accuracy','val_accuracy']], palette=\"tab10\", linewidth=2.5);"
   ]
  },
  {
   "cell_type": "code",
   "execution_count": 46,
   "metadata": {},
   "outputs": [
    {
     "name": "stdout",
     "output_type": "stream",
     "text": [
      "2710/2710 [==============================] - 1s 443us/step\n",
      "test loss, test acc: [1.0884229881737064, 0.585239827632904]\n"
     ]
    }
   ],
   "source": [
    "# Pour corriger les erreur ci-haute\n",
    "results = model.evaluate(x_test, y_test)\n",
    "print(\"test loss, test acc:\", results)"
   ]
  },
  {
   "cell_type": "code",
   "execution_count": 47,
   "metadata": {},
   "outputs": [
    {
     "name": "stdout",
     "output_type": "stream",
     "text": [
      "Converting pixels to 2D image ...\n",
      "Converting emotion to categorical n-array ...\n",
      "The given dataset has been converted to (28709, 48, 48, 1) array\n",
      "Converting pixels to 2D image ...\n",
      "Converting emotion to categorical n-array ...\n",
      "The given dataset has been converted to (3589, 48, 48, 1) array\n",
      "Converting pixels to 2D image ...\n",
      "Converting emotion to categorical n-array ...\n",
      "The given dataset has been converted to (3589, 48, 48, 1) array\n",
      "Train on 28709 samples, validate on 3589 samples\n",
      "Epoch 1/30\n",
      "28709/28709 [==============================] - 53s 2ms/step - loss: 2.2665 - accuracy: 0.4149 - val_loss: 1.2076 - val_accuracy: 0.5715\n",
      "Epoch 2/30\n",
      "28709/28709 [==============================] - 54s 2ms/step - loss: 1.3279 - accuracy: 0.5401 - val_loss: 1.1295 - val_accuracy: 0.5982\n",
      "Epoch 3/30\n",
      "28709/28709 [==============================] - 52s 2ms/step - loss: 1.2279 - accuracy: 0.5676 - val_loss: 1.1655 - val_accuracy: 0.5910\n",
      "Epoch 4/30\n",
      "28709/28709 [==============================] - 52s 2ms/step - loss: 1.1822 - accuracy: 0.5818 - val_loss: 1.0885 - val_accuracy: 0.6052\n",
      "Epoch 5/30\n",
      "28709/28709 [==============================] - 53s 2ms/step - loss: 1.1435 - accuracy: 0.5919 - val_loss: 1.0825 - val_accuracy: 0.6099\n",
      "Epoch 6/30\n",
      "28709/28709 [==============================] - 53s 2ms/step - loss: 1.1047 - accuracy: 0.6029 - val_loss: 1.0758 - val_accuracy: 0.6102\n",
      "Epoch 7/30\n",
      "28709/28709 [==============================] - 54s 2ms/step - loss: 1.0811 - accuracy: 0.6130 - val_loss: 1.0580 - val_accuracy: 0.6180\n",
      "Epoch 8/30\n",
      "28709/28709 [==============================] - 53s 2ms/step - loss: 1.0612 - accuracy: 0.6164 - val_loss: 1.0743 - val_accuracy: 0.6174\n",
      "Epoch 9/30\n",
      "28709/28709 [==============================] - 54s 2ms/step - loss: 1.0328 - accuracy: 0.6280 - val_loss: 1.0628 - val_accuracy: 0.6211\n",
      "Epoch 10/30\n",
      "28709/28709 [==============================] - 52s 2ms/step - loss: 1.0094 - accuracy: 0.6349 - val_loss: 1.0420 - val_accuracy: 0.6275\n",
      "Epoch 11/30\n",
      "28709/28709 [==============================] - 52s 2ms/step - loss: 0.9824 - accuracy: 0.6412 - val_loss: 1.0611 - val_accuracy: 0.6202\n",
      "Epoch 12/30\n",
      "28709/28709 [==============================] - 53s 2ms/step - loss: 0.9616 - accuracy: 0.6524 - val_loss: 1.0509 - val_accuracy: 0.6244\n",
      "Epoch 13/30\n",
      "28709/28709 [==============================] - 52s 2ms/step - loss: 0.9365 - accuracy: 0.6568 - val_loss: 1.0559 - val_accuracy: 0.6252\n",
      "Epoch 14/30\n",
      "28709/28709 [==============================] - 52s 2ms/step - loss: 0.9193 - accuracy: 0.6627 - val_loss: 1.0800 - val_accuracy: 0.6317\n",
      "Epoch 15/30\n",
      "28709/28709 [==============================] - 52s 2ms/step - loss: 0.8987 - accuracy: 0.6718 - val_loss: 1.0910 - val_accuracy: 0.6199\n",
      "Epoch 16/30\n",
      "28709/28709 [==============================] - 52s 2ms/step - loss: 0.8811 - accuracy: 0.6746 - val_loss: 1.0881 - val_accuracy: 0.6314\n",
      "Epoch 17/30\n",
      "28709/28709 [==============================] - 53s 2ms/step - loss: 0.8627 - accuracy: 0.6823 - val_loss: 1.1145 - val_accuracy: 0.6311\n",
      "Epoch 18/30\n",
      "28709/28709 [==============================] - 52s 2ms/step - loss: 0.8387 - accuracy: 0.6930 - val_loss: 1.1108 - val_accuracy: 0.6308\n",
      "Epoch 19/30\n",
      "28709/28709 [==============================] - 52s 2ms/step - loss: 0.8250 - accuracy: 0.6970 - val_loss: 1.0975 - val_accuracy: 0.6280\n",
      "Epoch 20/30\n",
      "28709/28709 [==============================] - 52s 2ms/step - loss: 0.8070 - accuracy: 0.7033 - val_loss: 1.1157 - val_accuracy: 0.6389\n",
      "Epoch 21/30\n",
      "28709/28709 [==============================] - 52s 2ms/step - loss: 0.7938 - accuracy: 0.7071 - val_loss: 1.1034 - val_accuracy: 0.6278\n",
      "Epoch 22/30\n",
      "28709/28709 [==============================] - 52s 2ms/step - loss: 0.7808 - accuracy: 0.7112 - val_loss: 1.1011 - val_accuracy: 0.6378\n",
      "Epoch 23/30\n",
      "28709/28709 [==============================] - 54s 2ms/step - loss: 0.7509 - accuracy: 0.7178 - val_loss: 1.1261 - val_accuracy: 0.6297\n",
      "Epoch 24/30\n",
      "28709/28709 [==============================] - 53s 2ms/step - loss: 0.7349 - accuracy: 0.7252 - val_loss: 1.1815 - val_accuracy: 0.6342\n",
      "Epoch 25/30\n",
      "28709/28709 [==============================] - 53s 2ms/step - loss: 0.7295 - accuracy: 0.7273 - val_loss: 1.1540 - val_accuracy: 0.6378\n",
      "Epoch 26/30\n",
      "28709/28709 [==============================] - 52s 2ms/step - loss: 0.7194 - accuracy: 0.7372 - val_loss: 1.1946 - val_accuracy: 0.6369\n",
      "Epoch 27/30\n",
      "28709/28709 [==============================] - 52s 2ms/step - loss: 0.6958 - accuracy: 0.7428 - val_loss: 1.1385 - val_accuracy: 0.6358\n",
      "Epoch 28/30\n",
      "28709/28709 [==============================] - 52s 2ms/step - loss: 0.6842 - accuracy: 0.7471 - val_loss: 1.1590 - val_accuracy: 0.6400\n",
      "Epoch 29/30\n",
      "28709/28709 [==============================] - 52s 2ms/step - loss: 0.6591 - accuracy: 0.7550 - val_loss: 1.1557 - val_accuracy: 0.6378\n",
      "Epoch 30/30\n",
      "28709/28709 [==============================] - 52s 2ms/step - loss: 0.6471 - accuracy: 0.7596 - val_loss: 1.1835 - val_accuracy: 0.6389\n",
      "Evaluating the model on test data ...\n",
      "3589/3589 [==============================] - 2s 472us/step\n",
      "test loss, test acc: [1.0857730856111834, 0.6472554802894592]\n"
     ]
    },
    {
     "data": {
      "image/png": "[encoded data removed]",
      "text/plain": [
       "<Figure size 432x288 with 1 Axes>"
      ]
     },
     "metadata": {
      "needs_background": "light"
     },
     "output_type": "display_data"
    }
   ],
   "source": [
    "# Not sure if these data are overwriten\n",
    "#x, y = image_to_4d_array(df_training)\n",
    "#validation = image_to_4d_array(df_validation)\n",
    "#x_test, y_test = image_to_4d_array(df_test)\n",
    "\n",
    "#X_train, Y_train = image_to_4d_array(df_training)\n",
    "#X_test, Y_test = image_to_4d_array(df_test)\n",
    "#X_valid, Y_valid = image_to_4d_array(df_validation)\n",
    "\n",
    "l = model.fit(x=X_train, y=Y_train, validation_data=(X_valid, Y_valid), batch_size=256, epochs=30)    \n",
    "#model, l = uniform_data_aug_fit(model, datagen, x, y, valid=validation, bs=32, taux=9, ep=10)\n",
    "show_confusion_matrix(model, x_test=X_test, y=df_test.emotion)\n",
    "sns.lineplot(data=pd.DataFrame(l.history)[['accuracy','val_accuracy']], palette=\"tab10\", linewidth=2.5);\n",
    "print(\"Evaluating the model on test data ...\")\n",
    "results = model.evaluate(X_test, Y_test)\n",
    "print(\"test loss, test acc:\", results)\n"
   ]
  },
  {
   "cell_type": "code",
   "execution_count": 48,
   "metadata": {},
   "outputs": [
    {
     "data": {
      "text/html": [
       "<div>\n",
       "<style scoped>\n",
       "    .dataframe tbody tr th:only-of-type {\n",
       "        vertical-align: middle;\n",
       "    }\n",
       "\n",
       "    .dataframe tbody tr th {\n",
       "        vertical-align: top;\n",
       "    }\n",
       "\n",
       "    .dataframe thead th {\n",
       "        text-align: right;\n",
       "    }\n",
       "</style>\n",
       "<table border=\"1\" class=\"dataframe\">\n",
       "  <thead>\n",
       "    <tr style=\"text-align: right;\">\n",
       "      <th></th>\n",
       "      <th>0</th>\n",
       "      <th>1</th>\n",
       "      <th>2</th>\n",
       "      <th>3</th>\n",
       "      <th>4</th>\n",
       "      <th>5</th>\n",
       "      <th>6</th>\n",
       "    </tr>\n",
       "  </thead>\n",
       "  <tbody>\n",
       "    <tr>\n",
       "      <th>0</th>\n",
       "      <td>0.56</td>\n",
       "      <td>0.03</td>\n",
       "      <td>0.14</td>\n",
       "      <td>0.07</td>\n",
       "      <td>0.12</td>\n",
       "      <td>0.02</td>\n",
       "      <td>0.06</td>\n",
       "    </tr>\n",
       "    <tr>\n",
       "      <th>1</th>\n",
       "      <td>0.09</td>\n",
       "      <td>0.65</td>\n",
       "      <td>0.13</td>\n",
       "      <td>0.00</td>\n",
       "      <td>0.07</td>\n",
       "      <td>0.02</td>\n",
       "      <td>0.04</td>\n",
       "    </tr>\n",
       "    <tr>\n",
       "      <th>2</th>\n",
       "      <td>0.07</td>\n",
       "      <td>0.01</td>\n",
       "      <td>0.62</td>\n",
       "      <td>0.03</td>\n",
       "      <td>0.13</td>\n",
       "      <td>0.10</td>\n",
       "      <td>0.04</td>\n",
       "    </tr>\n",
       "    <tr>\n",
       "      <th>3</th>\n",
       "      <td>0.03</td>\n",
       "      <td>0.00</td>\n",
       "      <td>0.03</td>\n",
       "      <td>0.83</td>\n",
       "      <td>0.04</td>\n",
       "      <td>0.02</td>\n",
       "      <td>0.05</td>\n",
       "    </tr>\n",
       "    <tr>\n",
       "      <th>4</th>\n",
       "      <td>0.12</td>\n",
       "      <td>0.01</td>\n",
       "      <td>0.18</td>\n",
       "      <td>0.06</td>\n",
       "      <td>0.50</td>\n",
       "      <td>0.01</td>\n",
       "      <td>0.12</td>\n",
       "    </tr>\n",
       "    <tr>\n",
       "      <th>5</th>\n",
       "      <td>0.01</td>\n",
       "      <td>0.00</td>\n",
       "      <td>0.12</td>\n",
       "      <td>0.05</td>\n",
       "      <td>0.01</td>\n",
       "      <td>0.79</td>\n",
       "      <td>0.01</td>\n",
       "    </tr>\n",
       "    <tr>\n",
       "      <th>6</th>\n",
       "      <td>0.09</td>\n",
       "      <td>0.00</td>\n",
       "      <td>0.09</td>\n",
       "      <td>0.07</td>\n",
       "      <td>0.18</td>\n",
       "      <td>0.02</td>\n",
       "      <td>0.56</td>\n",
       "    </tr>\n",
       "  </tbody>\n",
       "</table>\n",
       "</div>"
      ],
      "text/plain": [
       "      0     1     2     3     4     5     6\n",
       "0  0.56  0.03  0.14  0.07  0.12  0.02  0.06\n",
       "1  0.09  0.65  0.13  0.00  0.07  0.02  0.04\n",
       "2  0.07  0.01  0.62  0.03  0.13  0.10  0.04\n",
       "3  0.03  0.00  0.03  0.83  0.04  0.02  0.05\n",
       "4  0.12  0.01  0.18  0.06  0.50  0.01  0.12\n",
       "5  0.01  0.00  0.12  0.05  0.01  0.79  0.01\n",
       "6  0.09  0.00  0.09  0.07  0.18  0.02  0.56"
      ]
     },
     "execution_count": 48,
     "metadata": {},
     "output_type": "execute_result"
    }
   ],
   "source": [
    "show_confusion_matrix(model, x_test=X_test, y=df_test.emotion)"
   ]
  },
  {
   "cell_type": "markdown",
   "metadata": {},
   "source": [
    "<h4>Commentaires sur 2eme apprentissage avec different train set</h4>\n",
    "<p>Eventuellement, le changement de data-set pour 2eme apprentissage d'un modele semble etre une technique possitive. Pour apprendre d'un modele vierge par uniform_data_augmentation, on a besoin environ 14000 (570x25) seconds pour une performance de 64%<br>\n",
    "Avec un apprentissage par uniform_data_augmentation sur les autres classes que la plus populaire puis un 2eme apprentissage sans data_augmentation, on a besoin environ 5900 (430x10+54X30) seconds pour une performance simulaire. Un économie de plus que 50% .</p>"
   ]
  },
  {
   "cell_type": "markdown",
   "metadata": {},
   "source": [
    "<h3>2eme exemple de construction de CNN model</h3>\n",
    "<p>Par defaut, il y a 5 couches, la taille k_size est (3,3) pour chaque couche</p>\n",
    "<p>Notons que les valeurs dropout sont 0.25 pour ces 5 couches, et last_dropout(ld) est 0.5</p>"
   ]
  },
  {
   "cell_type": "code",
   "execution_count": 49,
   "metadata": {},
   "outputs": [
    {
     "name": "stdout",
     "output_type": "stream",
     "text": [
      "Model: \"sequential_6\"\n",
      "_________________________________________________________________\n",
      "Layer (type)                 Output Shape              Param #   \n",
      "=================================================================\n",
      "conv2d_26 (Conv2D)           (None, 48, 48, 16)        160       \n",
      "_________________________________________________________________\n",
      "max_pooling2d_21 (MaxPooling (None, 24, 24, 16)        0         \n",
      "_________________________________________________________________\n",
      "dropout_31 (Dropout)         (None, 24, 24, 16)        0         \n",
      "_________________________________________________________________\n",
      "conv2d_27 (Conv2D)           (None, 24, 24, 32)        4640      \n",
      "_________________________________________________________________\n",
      "batch_normalization_21 (Batc (None, 24, 24, 32)        128       \n",
      "_________________________________________________________________\n",
      "max_pooling2d_22 (MaxPooling (None, 12, 12, 32)        0         \n",
      "_________________________________________________________________\n",
      "dropout_32 (Dropout)         (None, 12, 12, 32)        0         \n",
      "_________________________________________________________________\n",
      "conv2d_28 (Conv2D)           (None, 12, 12, 64)        18496     \n",
      "_________________________________________________________________\n",
      "batch_normalization_22 (Batc (None, 12, 12, 64)        256       \n",
      "_________________________________________________________________\n",
      "max_pooling2d_23 (MaxPooling (None, 6, 6, 64)          0         \n",
      "_________________________________________________________________\n",
      "dropout_33 (Dropout)         (None, 6, 6, 64)          0         \n",
      "_________________________________________________________________\n",
      "conv2d_29 (Conv2D)           (None, 6, 6, 128)         73856     \n",
      "_________________________________________________________________\n",
      "batch_normalization_23 (Batc (None, 6, 6, 128)         512       \n",
      "_________________________________________________________________\n",
      "max_pooling2d_24 (MaxPooling (None, 3, 3, 128)         0         \n",
      "_________________________________________________________________\n",
      "dropout_34 (Dropout)         (None, 3, 3, 128)         0         \n",
      "_________________________________________________________________\n",
      "conv2d_30 (Conv2D)           (None, 3, 3, 256)         295168    \n",
      "_________________________________________________________________\n",
      "batch_normalization_24 (Batc (None, 3, 3, 256)         1024      \n",
      "_________________________________________________________________\n",
      "dropout_35 (Dropout)         (None, 3, 3, 256)         0         \n",
      "_________________________________________________________________\n",
      "flatten_6 (Flatten)          (None, 2304)              0         \n",
      "_________________________________________________________________\n",
      "dense_11 (Dense)             (None, 256)               590080    \n",
      "_________________________________________________________________\n",
      "dropout_36 (Dropout)         (None, 256)               0         \n",
      "_________________________________________________________________\n",
      "dense_12 (Dense)             (None, 7)                 1799      \n",
      "=================================================================\n",
      "Total params: 986,119\n",
      "Trainable params: 985,159\n",
      "Non-trainable params: 960\n",
      "_________________________________________________________________\n"
     ]
    }
   ],
   "source": [
    "model = get_model_v23(num_filtre=(16, 32, 64, 128, 256), lf=256, ld=0.5, p_size=(2,2,2,2,0), dropout=(0.25, 0.25, 0.25, 0.25, 0.25))\n",
    "model.summary()"
   ]
  },
  {
   "cell_type": "markdown",
   "metadata": {},
   "source": [
    "<h3>2eme Exemple d'apprendre d'un CNN model</h3>\n",
    "<p>Cette fois, pas de technique de data augmentation est utilisee</p>"
   ]
  },
  {
   "cell_type": "code",
   "execution_count": 50,
   "metadata": {},
   "outputs": [
    {
     "name": "stdout",
     "output_type": "stream",
     "text": [
      "Fitting the model ...\n",
      "Train on 28709 samples, validate on 3589 samples\n",
      "Epoch 1/50\n",
      "28709/28709 [==============================] - 55s 2ms/step - loss: 1.8974 - accuracy: 0.2354 - val_loss: 2.5627 - val_accuracy: 0.1691\n",
      "Epoch 2/50\n",
      "28709/28709 [==============================] - 54s 2ms/step - loss: 1.8029 - accuracy: 0.2515 - val_loss: 2.1767 - val_accuracy: 0.1691\n",
      "Epoch 3/50\n",
      "28709/28709 [==============================] - 54s 2ms/step - loss: 1.7892 - accuracy: 0.2632 - val_loss: 3.3688 - val_accuracy: 0.1691\n",
      "Epoch 4/50\n",
      "28709/28709 [==============================] - 54s 2ms/step - loss: 1.7479 - accuracy: 0.2881 - val_loss: 1.8293 - val_accuracy: 0.2051\n",
      "Epoch 5/50\n",
      "28709/28709 [==============================] - 54s 2ms/step - loss: 1.6762 - accuracy: 0.3302 - val_loss: 1.7425 - val_accuracy: 0.3034\n",
      "Epoch 6/50\n",
      "28709/28709 [==============================] - 54s 2ms/step - loss: 1.6058 - accuracy: 0.3656 - val_loss: 1.7216 - val_accuracy: 0.3505\n",
      "Epoch 7/50\n",
      "28709/28709 [==============================] - 54s 2ms/step - loss: 1.5555 - accuracy: 0.3904 - val_loss: 1.4834 - val_accuracy: 0.4140\n",
      "Epoch 8/50\n",
      "28709/28709 [==============================] - 54s 2ms/step - loss: 1.4987 - accuracy: 0.4187 - val_loss: 1.3839 - val_accuracy: 0.4726\n",
      "Epoch 9/50\n",
      "28709/28709 [==============================] - 54s 2ms/step - loss: 1.4558 - accuracy: 0.4366 - val_loss: 1.3992 - val_accuracy: 0.4695\n",
      "Epoch 10/50\n",
      "28709/28709 [==============================] - 54s 2ms/step - loss: 1.4152 - accuracy: 0.4571 - val_loss: 1.3839 - val_accuracy: 0.4731\n",
      "Epoch 11/50\n",
      "28709/28709 [==============================] - 53s 2ms/step - loss: 1.3810 - accuracy: 0.4737 - val_loss: 1.3278 - val_accuracy: 0.4921\n",
      "Epoch 12/50\n",
      "28709/28709 [==============================] - 54s 2ms/step - loss: 1.3492 - accuracy: 0.4817 - val_loss: 1.2532 - val_accuracy: 0.5113\n",
      "Epoch 13/50\n",
      "28709/28709 [==============================] - 53s 2ms/step - loss: 1.3293 - accuracy: 0.4914 - val_loss: 1.2362 - val_accuracy: 0.5255\n",
      "Epoch 14/50\n",
      "28709/28709 [==============================] - 53s 2ms/step - loss: 1.3007 - accuracy: 0.5022 - val_loss: 1.3021 - val_accuracy: 0.5166\n",
      "Epoch 15/50\n",
      "28709/28709 [==============================] - 53s 2ms/step - loss: 1.2796 - accuracy: 0.5143 - val_loss: 1.2281 - val_accuracy: 0.5339\n",
      "Epoch 16/50\n",
      "28709/28709 [==============================] - 54s 2ms/step - loss: 1.2631 - accuracy: 0.5169 - val_loss: 1.1912 - val_accuracy: 0.5550\n",
      "Epoch 17/50\n",
      "28709/28709 [==============================] - 54s 2ms/step - loss: 1.2366 - accuracy: 0.5306 - val_loss: 1.2031 - val_accuracy: 0.5397\n",
      "Epoch 18/50\n",
      "28709/28709 [==============================] - 53s 2ms/step - loss: 1.2277 - accuracy: 0.5343 - val_loss: 1.2555 - val_accuracy: 0.5263\n",
      "Epoch 19/50\n",
      "28709/28709 [==============================] - 54s 2ms/step - loss: 1.2025 - accuracy: 0.5435 - val_loss: 1.1898 - val_accuracy: 0.5531\n",
      "Epoch 20/50\n",
      "28709/28709 [==============================] - 53s 2ms/step - loss: 1.1877 - accuracy: 0.5508 - val_loss: 1.1498 - val_accuracy: 0.5645\n",
      "Epoch 21/50\n",
      "28709/28709 [==============================] - 52s 2ms/step - loss: 1.1632 - accuracy: 0.5575 - val_loss: 1.1450 - val_accuracy: 0.5709\n",
      "Epoch 22/50\n",
      "28709/28709 [==============================] - 52s 2ms/step - loss: 1.1426 - accuracy: 0.5668 - val_loss: 1.1313 - val_accuracy: 0.5673\n",
      "Epoch 23/50\n",
      "28709/28709 [==============================] - 52s 2ms/step - loss: 1.1371 - accuracy: 0.5695 - val_loss: 1.1567 - val_accuracy: 0.5723\n",
      "Epoch 24/50\n",
      "28709/28709 [==============================] - 52s 2ms/step - loss: 1.1214 - accuracy: 0.5762 - val_loss: 1.1177 - val_accuracy: 0.5821\n",
      "Epoch 25/50\n",
      "28709/28709 [==============================] - 52s 2ms/step - loss: 1.1156 - accuracy: 0.5798 - val_loss: 1.1371 - val_accuracy: 0.5720\n",
      "Epoch 26/50\n",
      "28709/28709 [==============================] - 52s 2ms/step - loss: 1.0934 - accuracy: 0.5846 - val_loss: 1.1663 - val_accuracy: 0.5754\n",
      "Epoch 27/50\n",
      "28709/28709 [==============================] - 52s 2ms/step - loss: 1.0784 - accuracy: 0.5927 - val_loss: 1.1169 - val_accuracy: 0.5821\n",
      "Epoch 28/50\n",
      "28709/28709 [==============================] - 52s 2ms/step - loss: 1.0670 - accuracy: 0.5936 - val_loss: 1.1403 - val_accuracy: 0.5790\n",
      "Epoch 29/50\n",
      "28709/28709 [==============================] - 52s 2ms/step - loss: 1.0534 - accuracy: 0.6014 - val_loss: 1.1069 - val_accuracy: 0.5882\n",
      "Epoch 30/50\n",
      "28709/28709 [==============================] - 52s 2ms/step - loss: 1.0395 - accuracy: 0.6080 - val_loss: 1.1429 - val_accuracy: 0.5823\n",
      "Epoch 31/50\n",
      "28709/28709 [==============================] - 51s 2ms/step - loss: 1.0364 - accuracy: 0.6087 - val_loss: 1.1350 - val_accuracy: 0.5821\n",
      "Epoch 32/50\n",
      "28709/28709 [==============================] - 53s 2ms/step - loss: 1.0259 - accuracy: 0.6123 - val_loss: 1.2060 - val_accuracy: 0.5634\n",
      "Epoch 33/50\n",
      "28709/28709 [==============================] - 52s 2ms/step - loss: 1.0013 - accuracy: 0.6236 - val_loss: 1.1045 - val_accuracy: 0.5932\n",
      "Epoch 34/50\n",
      "28709/28709 [==============================] - 53s 2ms/step - loss: 0.9973 - accuracy: 0.6232 - val_loss: 1.1044 - val_accuracy: 0.5965\n",
      "Epoch 35/50\n",
      "28709/28709 [==============================] - 53s 2ms/step - loss: 0.9878 - accuracy: 0.6271 - val_loss: 1.1425 - val_accuracy: 0.5915\n",
      "Epoch 36/50\n",
      "28709/28709 [==============================] - 52s 2ms/step - loss: 0.9784 - accuracy: 0.6311 - val_loss: 1.1129 - val_accuracy: 0.5932\n",
      "Epoch 37/50\n",
      "28709/28709 [==============================] - 52s 2ms/step - loss: 0.9689 - accuracy: 0.6361 - val_loss: 1.1009 - val_accuracy: 0.5935\n",
      "Epoch 38/50\n",
      "28709/28709 [==============================] - 52s 2ms/step - loss: 0.9647 - accuracy: 0.6370 - val_loss: 1.0953 - val_accuracy: 0.6018\n",
      "Epoch 39/50\n",
      "28709/28709 [==============================] - 53s 2ms/step - loss: 0.9512 - accuracy: 0.6416 - val_loss: 1.1294 - val_accuracy: 0.5913\n",
      "Epoch 40/50\n",
      "28709/28709 [==============================] - 53s 2ms/step - loss: 0.9387 - accuracy: 0.6462 - val_loss: 1.1042 - val_accuracy: 0.6027\n",
      "Epoch 41/50\n",
      "28709/28709 [==============================] - 52s 2ms/step - loss: 0.9300 - accuracy: 0.6494 - val_loss: 1.1408 - val_accuracy: 0.5860\n",
      "Epoch 42/50\n",
      "28709/28709 [==============================] - 52s 2ms/step - loss: 0.9149 - accuracy: 0.6528 - val_loss: 1.1176 - val_accuracy: 0.5952\n",
      "Epoch 43/50\n",
      "28709/28709 [==============================] - 52s 2ms/step - loss: 0.9117 - accuracy: 0.6563 - val_loss: 1.1222 - val_accuracy: 0.5985\n",
      "Epoch 44/50\n",
      "28709/28709 [==============================] - 54s 2ms/step - loss: 0.9024 - accuracy: 0.6602 - val_loss: 1.1086 - val_accuracy: 0.5988\n",
      "Epoch 45/50\n",
      "28709/28709 [==============================] - 53s 2ms/step - loss: 0.8891 - accuracy: 0.6656 - val_loss: 1.1407 - val_accuracy: 0.5996\n",
      "Epoch 46/50\n",
      "28709/28709 [==============================] - 53s 2ms/step - loss: 0.8827 - accuracy: 0.6679 - val_loss: 1.1273 - val_accuracy: 0.6004\n",
      "Epoch 47/50\n",
      "28709/28709 [==============================] - 52s 2ms/step - loss: 0.8747 - accuracy: 0.6712 - val_loss: 1.1222 - val_accuracy: 0.6052\n",
      "Epoch 48/50\n",
      "28709/28709 [==============================] - 53s 2ms/step - loss: 0.8634 - accuracy: 0.6740 - val_loss: 1.1946 - val_accuracy: 0.5899\n",
      "Epoch 49/50\n",
      "28709/28709 [==============================] - 52s 2ms/step - loss: 0.8596 - accuracy: 0.6768 - val_loss: 1.1776 - val_accuracy: 0.5963\n",
      "Epoch 50/50\n",
      "28709/28709 [==============================] - 55s 2ms/step - loss: 0.8499 - accuracy: 0.6819 - val_loss: 1.1310 - val_accuracy: 0.6052\n",
      "Saved model to disk done\n",
      "Evaluating the model on test data ...\n",
      "3589/3589 [==============================] - 2s 506us/step\n",
      "test loss, test acc: [1.0734220195793116, 0.6271942257881165]\n",
      "      0     1     2     3     4     5     6\n",
      "0  0.51  0.03  0.15  0.05  0.15  0.03  0.07\n",
      "1  0.12  0.73  0.07  0.00  0.00  0.02  0.05\n",
      "2  0.09  0.00  0.58  0.05  0.13  0.08  0.06\n",
      "3  0.03  0.00  0.03  0.81  0.04  0.03  0.05\n",
      "4  0.12  0.01  0.16  0.06  0.49  0.02  0.15\n",
      "5  0.02  0.00  0.15  0.03  0.03  0.75  0.01\n",
      "6  0.09  0.00  0.10  0.07  0.17  0.03  0.55\n"
     ]
    },
    {
     "data": {
      "image/png": "[encoded data removed]",
      "text/plain": [
       "<Figure size 432x288 with 1 Axes>"
      ]
     },
     "metadata": {
      "needs_background": "light"
     },
     "output_type": "display_data"
    }
   ],
   "source": [
    "l = fit_test_save_model(model, bs=256, ep=50, aug=False, fnm='fer234.json', fnw='fer234.h5')"
   ]
  },
  {
   "cell_type": "markdown",
   "metadata": {},
   "source": [
    "<h4>Commentaires</h4>\n",
    "<p>Nous observons d'over-fitting malgré forte dropout. Une performance de 62.7% est obtenue sans data augmentation. Le temps d'apprentissage est relativement courte: environ 2700s (54x50)</p>"
   ]
  },
  {
   "cell_type": "markdown",
   "metadata": {},
   "source": [
    "<h3>3eme Exemple d'apprendre un CNN model</h3>\n",
    "<p>Cette fois, nous avons utilisé une technique de deux entrainements sequentiels avec imbalanced data augmentation pendant le premier entrainement seulement</p>"
   ]
  },
  {
   "cell_type": "code",
   "execution_count": 28,
   "metadata": {},
   "outputs": [
    {
     "name": "stdout",
     "output_type": "stream",
     "text": [
      "Model: \"sequential_2\"\n",
      "_________________________________________________________________\n",
      "Layer (type)                 Output Shape              Param #   \n",
      "=================================================================\n",
      "conv2d_6 (Conv2D)            (None, 48, 48, 16)        160       \n",
      "_________________________________________________________________\n",
      "max_pooling2d_5 (MaxPooling2 (None, 24, 24, 16)        0         \n",
      "_________________________________________________________________\n",
      "dropout_7 (Dropout)          (None, 24, 24, 16)        0         \n",
      "_________________________________________________________________\n",
      "conv2d_7 (Conv2D)            (None, 24, 24, 32)        4640      \n",
      "_________________________________________________________________\n",
      "batch_normalization_5 (Batch (None, 24, 24, 32)        128       \n",
      "_________________________________________________________________\n",
      "max_pooling2d_6 (MaxPooling2 (None, 12, 12, 32)        0         \n",
      "_________________________________________________________________\n",
      "dropout_8 (Dropout)          (None, 12, 12, 32)        0         \n",
      "_________________________________________________________________\n",
      "conv2d_8 (Conv2D)            (None, 12, 12, 64)        18496     \n",
      "_________________________________________________________________\n",
      "batch_normalization_6 (Batch (None, 12, 12, 64)        256       \n",
      "_________________________________________________________________\n",
      "max_pooling2d_7 (MaxPooling2 (None, 6, 6, 64)          0         \n",
      "_________________________________________________________________\n",
      "dropout_9 (Dropout)          (None, 6, 6, 64)          0         \n",
      "_________________________________________________________________\n",
      "conv2d_9 (Conv2D)            (None, 6, 6, 128)         73856     \n",
      "_________________________________________________________________\n",
      "batch_normalization_7 (Batch (None, 6, 6, 128)         512       \n",
      "_________________________________________________________________\n",
      "max_pooling2d_8 (MaxPooling2 (None, 3, 3, 128)         0         \n",
      "_________________________________________________________________\n",
      "dropout_10 (Dropout)         (None, 3, 3, 128)         0         \n",
      "_________________________________________________________________\n",
      "conv2d_10 (Conv2D)           (None, 3, 3, 256)         295168    \n",
      "_________________________________________________________________\n",
      "batch_normalization_8 (Batch (None, 3, 3, 256)         1024      \n",
      "_________________________________________________________________\n",
      "dropout_11 (Dropout)         (None, 3, 3, 256)         0         \n",
      "_________________________________________________________________\n",
      "flatten_2 (Flatten)          (None, 2304)              0         \n",
      "_________________________________________________________________\n",
      "dense_3 (Dense)              (None, 256)               590080    \n",
      "_________________________________________________________________\n",
      "dropout_12 (Dropout)         (None, 256)               0         \n",
      "_________________________________________________________________\n",
      "dense_4 (Dense)              (None, 7)                 1799      \n",
      "=================================================================\n",
      "Total params: 986,119\n",
      "Trainable params: 985,159\n",
      "Non-trainable params: 960\n",
      "_________________________________________________________________\n"
     ]
    }
   ],
   "source": [
    "model = get_model_v23(num_filtre=(16, 32, 64, 128, 256), lf=256, ld=0.45, p_size=(2,2,2,2,0), dropout=(0.1, 0.1, 0.1, 0.1, 0.1))\n",
    "model.summary()"
   ]
  },
  {
   "cell_type": "code",
   "execution_count": 29,
   "metadata": {},
   "outputs": [
    {
     "name": "stdout",
     "output_type": "stream",
     "text": [
      "Fitting the model ...\n",
      "Converting pixels to 2D image ...\n",
      "Converting emotion to categorical n-array ...\n",
      "The given dataset has been converted to (21494, 48, 48, 1) array\n",
      "Converting pixels to 2D image ...\n",
      "Converting emotion to categorical n-array ...\n",
      "The given dataset has been converted to (2694, 48, 48, 1) array\n",
      "Converting pixels to 2D image ...\n",
      "Converting emotion to categorical n-array ...\n",
      "The given dataset has been converted to (2710, 48, 48, 1) array\n",
      "Epoch 1/10\n",
      "8060/8060 [==============================] - 568s 71ms/step - loss: 1.5281 - accuracy: 0.3410 - val_loss: 1.3001 - val_accuracy: 0.4636\n",
      "Epoch 2/10\n",
      "8060/8060 [==============================] - 563s 70ms/step - loss: 1.3543 - accuracy: 0.4476 - val_loss: 1.2260 - val_accuracy: 0.5011\n",
      "Epoch 3/10\n",
      "8060/8060 [==============================] - 551s 68ms/step - loss: 1.2683 - accuracy: 0.4892 - val_loss: 1.2746 - val_accuracy: 0.4933\n",
      "Epoch 4/10\n",
      "8060/8060 [==============================] - 566s 70ms/step - loss: 1.2134 - accuracy: 0.5137 - val_loss: 1.1937 - val_accuracy: 0.5353\n",
      "Epoch 5/10\n",
      "8060/8060 [==============================] - 551s 68ms/step - loss: 1.1756 - accuracy: 0.5297 - val_loss: 1.1328 - val_accuracy: 0.5616\n",
      "Epoch 6/10\n",
      "8060/8060 [==============================] - 550s 68ms/step - loss: 1.1497 - accuracy: 0.5421 - val_loss: 1.1409 - val_accuracy: 0.5594\n",
      "Epoch 7/10\n",
      "8060/8060 [==============================] - 551s 68ms/step - loss: 1.1290 - accuracy: 0.5506 - val_loss: 1.1280 - val_accuracy: 0.5609\n",
      "Epoch 8/10\n",
      "8060/8060 [==============================] - 554s 69ms/step - loss: 1.1105 - accuracy: 0.5581 - val_loss: 1.1451 - val_accuracy: 0.5724\n",
      "Epoch 9/10\n",
      "8060/8060 [==============================] - 553s 69ms/step - loss: 1.0933 - accuracy: 0.5666 - val_loss: 1.0854 - val_accuracy: 0.5883\n",
      "Epoch 10/10\n",
      "8060/8060 [==============================] - 555s 69ms/step - loss: 1.0828 - accuracy: 0.5706 - val_loss: 1.1088 - val_accuracy: 0.5947\n",
      "Evaluating the model on test data ...\n",
      "2710/2710 [==============================] - 1s 498us/step\n",
      "test loss, test acc: [1.0576237424273331, 0.5826568007469177]\n",
      "Train on 28709 samples, validate on 3589 samples\n",
      "Epoch 1/10\n",
      "28709/28709 [==============================] - 51s 2ms/step - loss: 2.5315 - accuracy: 0.3818 - val_loss: 1.3001 - val_accuracy: 0.5408\n",
      "Epoch 2/10\n",
      "28709/28709 [==============================] - 51s 2ms/step - loss: 1.3826 - accuracy: 0.5370 - val_loss: 1.1447 - val_accuracy: 0.5885\n",
      "Epoch 3/10\n",
      "28709/28709 [==============================] - 51s 2ms/step - loss: 1.2575 - accuracy: 0.5651 - val_loss: 1.1038 - val_accuracy: 0.6024\n",
      "Epoch 4/10\n",
      "28709/28709 [==============================] - 51s 2ms/step - loss: 1.1864 - accuracy: 0.5856 - val_loss: 1.0834 - val_accuracy: 0.6102\n",
      "Epoch 5/10\n",
      "28709/28709 [==============================] - 51s 2ms/step - loss: 1.1329 - accuracy: 0.6011 - val_loss: 1.0706 - val_accuracy: 0.6166\n",
      "Epoch 6/10\n",
      "28709/28709 [==============================] - 51s 2ms/step - loss: 1.1037 - accuracy: 0.6079 - val_loss: 1.0557 - val_accuracy: 0.6250\n",
      "Epoch 7/10\n",
      "28709/28709 [==============================] - 51s 2ms/step - loss: 1.0792 - accuracy: 0.6158 - val_loss: 1.0481 - val_accuracy: 0.6275\n",
      "Epoch 8/10\n",
      "28709/28709 [==============================] - 51s 2ms/step - loss: 1.0423 - accuracy: 0.6261 - val_loss: 1.0655 - val_accuracy: 0.6239\n",
      "Epoch 9/10\n",
      "28709/28709 [==============================] - 51s 2ms/step - loss: 1.0176 - accuracy: 0.6329 - val_loss: 1.0581 - val_accuracy: 0.6222\n",
      "Epoch 10/10\n",
      "28709/28709 [==============================] - 52s 2ms/step - loss: 1.0018 - accuracy: 0.6432 - val_loss: 1.0543 - val_accuracy: 0.6291\n",
      "Saved model to disk done\n",
      "Evaluating the model on test data ...\n",
      "3589/3589 [==============================] - 2s 494us/step\n",
      "test loss, test acc: [1.0115870531803055, 0.638617992401123]\n",
      "      0     1     2     3     4     5     6\n",
      "0  0.62  0.04  0.11  0.04  0.12  0.03  0.04\n",
      "1  0.00  0.77  0.13  0.07  0.00  0.03  0.00\n",
      "2  0.14  0.01  0.51  0.05  0.11  0.11  0.07\n",
      "3  0.02  0.00  0.03  0.84  0.03  0.03  0.05\n",
      "4  0.12  0.01  0.18  0.07  0.46  0.02  0.15\n",
      "5  0.01  0.00  0.16  0.05  0.02  0.74  0.02\n",
      "6  0.07  0.00  0.08  0.07  0.15  0.01  0.61\n"
     ]
    },
    {
     "data": {
      "image/png": "[encoded data removed]",
      "text/plain": [
       "<Figure size 432x288 with 1 Axes>"
      ]
     },
     "metadata": {
      "needs_background": "light"
     },
     "output_type": "display_data"
    }
   ],
   "source": [
    "l = fit_test_save_model(model, bs=32, ep=10, imbalance=True, fnm='fer235.json', fnw='fer235.h5')"
   ]
  },
  {
   "cell_type": "markdown",
   "metadata": {},
   "source": [
    "<h4>Commentaires</h4>\n",
    "<p>Nous observons d'over-fitting seulement pour la deuxieme entrainement malgré faible dropout. Une performance de 63.9% est obtenue qui est de même que uniform data augmentation. Le temps d'apprentissage est relativement courte, environ 6000s (555+51)x10. </p>"
   ]
  },
  {
   "cell_type": "markdown",
   "metadata": {},
   "source": [
    "<h2>Conclusion</h2>\n",
    "<p><ul>\n",
    "<li>L'interface de construction du model cnn et de l'apprentissage devient simplement deux appels de deux fonctions.</li>\n",
    "<li>Par choix des hyperparametres, on peut avoir differents modeles et la technique d'apprentissage.</li>\n",
    "<li>Sans data augmentation, maximum accuracy sur test set est 62% en ce moment. Ce n'est pas le plus haute.</li>\n",
    "<li>De plus, sans data augmentation, forte dropout sont nécessaires pour lutter contre le sur-apprentissage.</li>\n",
    "<li>Avec data augmentation, nous obtenous de meilleurs performance: 66% dans le cas keras.ImageDataGenerator.</li>\n",
    "<li>Avec cette technique, faible valeurs dropout sont suffit pour empecher overfitting.</li>\n",
    "<li>mais le temps d'apprentissage est relativement longue.</li>\n",
    "<li>Pour reduire le temps d'apprentissage, nous avons utilise une technique telle que seulement les classes qui sont difficiles à classifier ont eu une data augmentation, le modele est ensuite entrainé par la même technique sans data augmentation. Nous avons eu une performance aussi elevée que 64% mais le temps d'apprentissage est réduit à plus que 50% (6060/14600)</li>\n",
    "    <li>Avec une technique oversampling, Nous n'avons pas eu de bon résultat, faut du temps serré et manque de compréhension de cette technique. Voir les cellules qui suivent la conclusion</li>\n",
    "</ul></p>"
   ]
  },
  {
   "cell_type": "markdown",
   "metadata": {},
   "source": [
    "<h2>Annexe</h2>\n",
    "<p>Note sur une mauvaise expérience avec une class <b><i style=\"color:blue\">BalancedDataGenerator</i></b></p>"
   ]
  },
  {
   "cell_type": "markdown",
   "metadata": {},
   "source": [
    "<h3>3eme exemple de construction du CNN model</h3>\n",
    "<p>Par defaut, il y a 5 couches, la taille k_size est (3,3) pour chaque couche</p>\n",
    "<p>Notons que les valeurs dropout sont 0.1 pour les 5 couches, mais last_dropout(ld) est 0.45. Cette architecture a ete utilisee pour la premier exemple</p>"
   ]
  },
  {
   "cell_type": "code",
   "execution_count": 21,
   "metadata": {},
   "outputs": [
    {
     "name": "stdout",
     "output_type": "stream",
     "text": [
      "Model: \"sequential_1\"\n",
      "_________________________________________________________________\n",
      "Layer (type)                 Output Shape              Param #   \n",
      "=================================================================\n",
      "conv2d_1 (Conv2D)            (None, 48, 48, 16)        160       \n",
      "_________________________________________________________________\n",
      "max_pooling2d_1 (MaxPooling2 (None, 24, 24, 16)        0         \n",
      "_________________________________________________________________\n",
      "dropout_1 (Dropout)          (None, 24, 24, 16)        0         \n",
      "_________________________________________________________________\n",
      "conv2d_2 (Conv2D)            (None, 24, 24, 32)        4640      \n",
      "_________________________________________________________________\n",
      "batch_normalization_1 (Batch (None, 24, 24, 32)        128       \n",
      "_________________________________________________________________\n",
      "max_pooling2d_2 (MaxPooling2 (None, 12, 12, 32)        0         \n",
      "_________________________________________________________________\n",
      "dropout_2 (Dropout)          (None, 12, 12, 32)        0         \n",
      "_________________________________________________________________\n",
      "conv2d_3 (Conv2D)            (None, 12, 12, 64)        18496     \n",
      "_________________________________________________________________\n",
      "batch_normalization_2 (Batch (None, 12, 12, 64)        256       \n",
      "_________________________________________________________________\n",
      "max_pooling2d_3 (MaxPooling2 (None, 6, 6, 64)          0         \n",
      "_________________________________________________________________\n",
      "dropout_3 (Dropout)          (None, 6, 6, 64)          0         \n",
      "_________________________________________________________________\n",
      "conv2d_4 (Conv2D)            (None, 6, 6, 128)         73856     \n",
      "_________________________________________________________________\n",
      "batch_normalization_3 (Batch (None, 6, 6, 128)         512       \n",
      "_________________________________________________________________\n",
      "max_pooling2d_4 (MaxPooling2 (None, 3, 3, 128)         0         \n",
      "_________________________________________________________________\n",
      "dropout_4 (Dropout)          (None, 3, 3, 128)         0         \n",
      "_________________________________________________________________\n",
      "conv2d_5 (Conv2D)            (None, 3, 3, 256)         295168    \n",
      "_________________________________________________________________\n",
      "batch_normalization_4 (Batch (None, 3, 3, 256)         1024      \n",
      "_________________________________________________________________\n",
      "dropout_5 (Dropout)          (None, 3, 3, 256)         0         \n",
      "_________________________________________________________________\n",
      "flatten_1 (Flatten)          (None, 2304)              0         \n",
      "_________________________________________________________________\n",
      "dense_1 (Dense)              (None, 256)               590080    \n",
      "_________________________________________________________________\n",
      "dropout_6 (Dropout)          (None, 256)               0         \n",
      "_________________________________________________________________\n",
      "dense_2 (Dense)              (None, 7)                 1799      \n",
      "=================================================================\n",
      "Total params: 986,119\n",
      "Trainable params: 985,159\n",
      "Non-trainable params: 960\n",
      "_________________________________________________________________\n"
     ]
    }
   ],
   "source": [
    "model = get_model_v23(num_filtre=(16, 32, 64, 128, 256), lf=256, ld=0.45, p_size=(2,2,2,2,0), dropout=(0.1, 0.1, 0.1, 0.1, 0.1))\n",
    "model.summary()"
   ]
  },
  {
   "cell_type": "markdown",
   "metadata": {},
   "source": [
    "<h3>3eme Exemple d'apprendre un CNN model</h3>\n",
    "<p>Cette fois, la technique de imbalanced data augmentation est utilisee</p>"
   ]
  },
  {
   "cell_type": "code",
   "execution_count": 24,
   "metadata": {},
   "outputs": [
    {
     "name": "stdout",
     "output_type": "stream",
     "text": [
      "Fitting the model ...\n"
     ]
    },
    {
     "name": "stderr",
     "output_type": "stream",
     "text": [
      "C:\\Users\\jeang\\anaconda3\\envs\\rl_env\\lib\\site-packages\\sklearn\\utils\\validation.py:71: FutureWarning: Pass classes=[0 1 2 3 4 5 6] as keyword args. From version 0.25 passing these as positional arguments will result in an error\n",
      "  FutureWarning)\n"
     ]
    },
    {
     "name": "stdout",
     "output_type": "stream",
     "text": [
      "Epoch 1/10\n",
      "1578/1578 [==============================] - 112s 71ms/step - loss: 1.9590 - accuracy: 0.1441 - val_loss: 3.5472 - val_accuracy: 0.1031\n",
      "Epoch 2/10\n",
      "1578/1578 [==============================] - 110s 70ms/step - loss: 1.9467 - accuracy: 0.1433 - val_loss: 1.9646 - val_accuracy: 0.1131\n",
      "Epoch 3/10\n",
      "1578/1578 [==============================] - 110s 70ms/step - loss: 1.9462 - accuracy: 0.1429 - val_loss: 1.9509 - val_accuracy: 0.1151\n",
      "Epoch 4/10\n",
      "1578/1578 [==============================] - 110s 70ms/step - loss: 1.9483 - accuracy: 0.1416 - val_loss: 1.9533 - val_accuracy: 0.1232\n",
      "Epoch 5/10\n",
      "1578/1578 [==============================] - 112s 71ms/step - loss: 1.9463 - accuracy: 0.1426 - val_loss: 1.9503 - val_accuracy: 0.1159\n",
      "Epoch 6/10\n",
      "1578/1578 [==============================] - 111s 71ms/step - loss: 1.9461 - accuracy: 0.1424 - val_loss: 1.9503 - val_accuracy: 0.1156\n",
      "Epoch 7/10\n",
      "1578/1578 [==============================] - 111s 71ms/step - loss: 1.9461 - accuracy: 0.1424 - val_loss: 1.9503 - val_accuracy: 0.1154\n",
      "Epoch 8/10\n",
      "1578/1578 [==============================] - 112s 71ms/step - loss: 1.9467 - accuracy: 0.1423 - val_loss: 1.9503 - val_accuracy: 0.1159\n",
      "Epoch 9/10\n",
      "1578/1578 [==============================] - 112s 71ms/step - loss: 1.9463 - accuracy: 0.1425 - val_loss: 1.9956 - val_accuracy: 0.1184\n",
      "Epoch 10/10\n",
      "1578/1578 [==============================] - 112s 71ms/step - loss: 1.9461 - accuracy: 0.1424 - val_loss: 1.9914 - val_accuracy: 0.1184\n",
      "Saved model to disk done\n",
      "Evaluating the model on test data ...\n",
      "3589/3589 [==============================] - 2s 465us/step\n",
      "test loss, test acc: [1.982087899795579, 0.11758150160312653]\n",
      "      0     1     2     3     4     5     6\n",
      "0   NaN   NaN   NaN   NaN   NaN   NaN   NaN\n",
      "1  0.26  0.03  0.08  0.18  0.16  0.13  0.16\n",
      "2  0.00  0.00  0.00  1.00  0.00  0.00  0.00\n",
      "3  0.00  0.00  0.00  1.00  0.00  0.00  0.00\n",
      "4  0.12  0.01  0.11  0.41  0.12  0.05  0.18\n",
      "5  0.14  0.02  0.15  0.24  0.17  0.12  0.17\n",
      "6  0.15  0.08  0.08  0.38  0.08  0.15  0.08\n"
     ]
    },
    {
     "name": "stderr",
     "output_type": "stream",
     "text": [
      "C:\\Users\\jeang\\anaconda3\\envs\\rl_env\\lib\\site-packages\\ipykernel_launcher.py:5: RuntimeWarning: invalid value encountered in true_divide\n",
      "  \"\"\"\n"
     ]
    },
    {
     "data": {
      "image/png": "[encoded data removed]",
      "text/plain": [
       "<Figure size 432x288 with 1 Axes>"
      ]
     },
     "metadata": {
      "needs_background": "light"
     },
     "output_type": "display_data"
    }
   ],
   "source": [
    "l = fit_test_save_model(model, bs=32, ep=10, imbalance=True, fnm='fer235.json', fnw='fer235.h5')"
   ]
  },
  {
   "cell_type": "code",
   "execution_count": 45,
   "metadata": {},
   "outputs": [],
   "source": [
    "datagen = ImageDataGenerator(featurewise_center=False,\n",
    "                             featurewise_std_normalization=False,\n",
    "                             rotation_range=45,\n",
    "                             width_shift_range=0.2,\n",
    "                             height_shift_range=0.2,\n",
    "                             shear_range=0.2,\n",
    "                             zoom_range=.2,\n",
    "                             horizontal_flip=True,\n",
    "                             vertical_flip=True)\n",
    "\n",
    "#bgen = BalancedDataGenerator(X_train, Y_train, datagen, batch_size=256)\n",
    "#steps_per_epoch = bgen.steps_per_epoch"
   ]
  },
  {
   "cell_type": "code",
   "execution_count": null,
   "metadata": {},
   "outputs": [],
   "source": []
  },
  {
   "cell_type": "code",
   "execution_count": null,
   "metadata": {},
   "outputs": [],
   "source": []
  },
  {
   "cell_type": "code",
   "execution_count": null,
   "metadata": {},
   "outputs": [],
   "source": []
  },
  {
   "cell_type": "markdown",
   "metadata": {},
   "source": [
    "<h2> References </h2>\n",
    "<p>keras image data generator class <u style=\"color:blue\"><i> https://keras.io/api/preprocessing/image/</i></u><br>Ce que c'est <b>\"Imbalanced Data\"</b>: <u style=\"color:blue\"><i>https://towardsdatascience.com/having-an-imbalanced-dataset-here-is-how-you-can-solve-it-1640568947eb</i></u><br>\n",
    "Comment traiter <b>\"Imbalanced image data\"</b>: <u style=\"color:blue\"><i>https://medium.com/analytics-vidhya/how-to-apply-data-augmentation-to-deal-with-unbalanced-datasets-in-20-lines-of-code-ada8521320c9</i></u><br>\n",
    "Code original pour <b>\"Imbalanced image data\"</b>: <u style=\"color:blue\"><i>https://github.com/scikit-learn-contrib/imbalanced-learn</i></u></p>\n",
    "<p>By using ImageDataGenerator in Keras, we make additional training data for data augmentation. Therefore, the number of samples for training can be set by yourself. If you want two times training data, just set steps_per_epoch as (original_sample_size*2)/batch_size.<u style=\"color:blue\"><i>https://stackoverflow.com/questions/47928347/value-of-steps-per-epoch-passed-to-keras-fit-generator-function</i></u></p>"
   ]
  },
  {
   "cell_type": "code",
   "execution_count": null,
   "metadata": {},
   "outputs": [],
   "source": []
  }
 ],
 "metadata": {
  "kernelspec": {
   "display_name": "Python 3",
   "language": "python",
   "name": "python3"
  },
  "language_info": {
   "codemirror_mode": {
    "name": "ipython",
    "version": 3
   },
   "file_extension": ".py",
   "mimetype": "text/x-python",
   "name": "python",
   "nbconvert_exporter": "python",
   "pygments_lexer": "ipython3",
   "version": "3.8.3"
  }
 },
 "nbformat": 4,
 "nbformat_minor": 4
}
