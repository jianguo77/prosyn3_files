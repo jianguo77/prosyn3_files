{
 "cells": [
  {
   "cell_type": "markdown",
   "metadata": {},
   "source": [
    "<div style=\"background-color:powderblue;\"><h1>Projet Synthese</h1><b>Groupe 3: Amardeepkumar Haulkhory, Hilaire Yuma, Jian-Guo Zhao, Mamadou Sy</b></div>"
   ]
  },
  {
   "cell_type": "markdown",
   "metadata": {},
   "source": [
    "<h2>Partie II Apprentissage par <abbr title=\"Convolutional Neural Networks\"><b>CNN </b></abbr></h2>\n",
    "<p>Definir le <abbr title=\"Convolutional Neural Networks\"><b>CNN </b></abbr>architecture:</p>\n",
    "<ol>\n",
    "<li>La premiere couche, Conv2D, prend un batch de donnees avec input_shape=(48,48,1)</li>\n",
    "<li>La deuxieme couche, Conv2D, prend la sortie de couche 1, keras determine le shape automatiquement</li>\n",
    "    <li>Il n'est pas necessaire d'indiquer input_shape pour les couches plus profondes</li>\n",
    "    <li>La troisieme couche, Conv2D, prend la sortie de la couche 2, keras determine le shape automatiquement</li>\n",
    "    <li>Ainsi de suite, on peut ajouter autres couches Conv2D s'il y en a besoin</li>\n",
    "    <li>Entre chaque deux couches Conv2D, une couche Max pooling est ajoutee, pour bonne apprentissage</li>\n",
    "    <li>Pour reduire le sur-apprentissage, une couche de regularisation Dropout pourrait etre ajoutee</li>\n",
    "    <li>Pour une meilleur performance, une couche Normalisation pourrait etre aussi appliquee</li>\n",
    "<li>Avant la couche dense, nous allons ajouter une couche Flatten qui convert le matrix 2D en vector 1D</li>\n",
    "    <li>Puis, une couche Dense avec une fonction activation ReLu</li>\n",
    "    <li>Encore une couche de regularization Dropout est appliquee</li>\n",
    "    <li>Enfin, la couche de sortie donne 7 neurons pour les 7 classes avec une fonction activation softmax qui donne la possibilite de prediction pour chaque class.</li>\n",
    "</ol>"
   ]
  },
  {
   "cell_type": "markdown",
   "metadata": {},
   "source": [
    "<h3>Dependences - packages nécessaires</h3>\n",
    "<p>En utilisant <b>tensorflow.compat.v1</b>, vous devez desactiver eager_execution.<br>Ce n'est pas le cas pour <b>tensorflow.v2</b>. De plus, le package <b>tensorflow</b> n'a pas la fonction <b><i>disable_eager_execution</i></b>.</p>"
   ]
  },
  {
   "cell_type": "code",
   "execution_count": 1,
   "metadata": {},
   "outputs": [
    {
     "name": "stderr",
     "output_type": "stream",
     "text": [
      "Using TensorFlow backend.\n"
     ]
    }
   ],
   "source": [
    "import tensorflow as tf\n",
    "#import tensorflow.compat.v1 as tf\n",
    "#tf.disable_eager_execution()\n",
    "\n",
    "from keras.models import Sequential\n",
    "from keras.layers import Dense, Conv2D, Dropout, Flatten, MaxPooling2D \n",
    "from keras.utils import to_categorical\n",
    "\n",
    "from keras.utils.data_utils import Sequence\n",
    "from imblearn.over_sampling import RandomOverSampler\n",
    "from imblearn.keras import balanced_batch_generator\n",
    "\n",
    "import numpy as np      # linear algebra\n",
    "import pandas as pd     # data processing, CSV file I/O (e.g. pd.read_csv)\n",
    "import matplotlib.pyplot as plt\n",
    "import seaborn as sns\n",
    "from sklearn.metrics import confusion_matrix\n",
    "\n",
    "import os\n",
    "from keras.layers.normalization import BatchNormalization\n",
    "from keras.preprocessing.image import ImageDataGenerator\n",
    "\n",
    "from numpy import expand_dims\n",
    "from keras.preprocessing.image import img_to_array\n",
    "\n",
    "%matplotlib inline"
   ]
  },
  {
   "cell_type": "markdown",
   "metadata": {},
   "source": [
    "<h3>Chargement des donnees</h3>\n",
    "<p>Pour eviter l'operation <b>download</b> des donnees se fait chaque fois, on les sauvegarde dans un repertoire local, qui est differente pour different colaborateurs. Veuillez changez la valeur de variable <b><i>data_dir</i></b> si necessaire</p>"
   ]
  },
  {
   "cell_type": "code",
   "execution_count": 2,
   "metadata": {},
   "outputs": [],
   "source": [
    "data_dir = \"C:\\\\Users\\\\jeang\\\\Documents\\\\BDEB\\\\A62\\\\ProSyn3\\\\data\\\\fer2013.csv\"\n",
    "df = pd.read_csv(data_dir )"
   ]
  },
  {
   "cell_type": "markdown",
   "metadata": {},
   "source": [
    "<h3>Repartition des donnees</h3>\n",
    "<p>Les donnees originales sont repartie en trois partie. Selons Partie I, la cible est bien balance dans ces trois parties</p>"
   ]
  },
  {
   "cell_type": "code",
   "execution_count": 3,
   "metadata": {},
   "outputs": [],
   "source": [
    "df_training = df[df['Usage']=='Training']\n",
    "df_PublicTest = df[df['Usage']=='PublicTest']\n",
    "df_PrivateTest = df[df['Usage']=='PrivateTest']"
   ]
  },
  {
   "cell_type": "markdown",
   "metadata": {},
   "source": [
    "<h3>Affichage des donnees</h3>\n",
    "<p> Ces fonctions affichent un image (une ligne)<br>Notons que 48 x 48 = 2304</p>"
   ]
  },
  {
   "cell_type": "code",
   "execution_count": 4,
   "metadata": {},
   "outputs": [
    {
     "data": {
      "image/png": "[encoded data removed]",
      "text/plain": [
       "<Figure size 432x288 with 1 Axes>"
      ]
     },
     "metadata": {
      "needs_background": "light"
     },
     "output_type": "display_data"
    }
   ],
   "source": [
    "FER2013_WIDTH = 48\n",
    "FER2013_HEIGHT = 48\n",
    "\n",
    "# indices 0 - 6 correspondent emotions suivantes\n",
    "Emotions = [\"Angry\", \"Disgust\", \"Fear\", \"Happy\", \"Sad\", \"Surprise\", \"Neutral\"]  \n",
    "\n",
    "def string_to_image(str_in):\n",
    "    return np.reshape(str_in.split(\" \"), (FER2013_WIDTH, FER2013_HEIGHT)).astype(\"float\")\n",
    "\n",
    "def fer2013_show_instance(index, d=df):\n",
    "    \"\"\"Shows the image and the emotion label of the index's instance.\"\"\"\n",
    "    category, str_image = d.at[index,'emotion'], d.at[index,'pixels']\n",
    "    image = string_to_image(str_image)\n",
    "    plt.imshow(image, cmap=\"gray\")\n",
    "    plt.title(f\"Exemple de categorie {category}: {Emotions[category]}\")\n",
    "    \n",
    "fer2013_show_instance(np.random.randint(0,len(df_training)))"
   ]
  },
  {
   "cell_type": "markdown",
   "metadata": {},
   "source": [
    "<h3>Transformation des données</h3>\n",
    "<p><ul> La fonction <b><i>image_to_4d_array</i></b> prend comme entree une dataframe qui tienne les donnees d'images en format des chaines de caracteres.<br>Elle retoune comme sortie un <b>np.array</b> de <mark>4 dimensions</mark>, normalisee, x, et categoriel y, utilisables comme entree pour <b>tensorflow CNN<b></ul></p>"
   ]
  },
  {
   "cell_type": "code",
   "execution_count": 5,
   "metadata": {},
   "outputs": [],
   "source": [
    "def image_to_4d_array(d=df):\n",
    "    \"\"\"Transforms the (blank separated) pixel strings in the DataFrame to an 4-dimensional array \n",
    "    (1st dim: instances, 2nd and 3rd dims represent 2D image, 4th dim represent the color).\"\"\"\n",
    "    \n",
    "    CLASS_NUMBER = 7\n",
    "    pixels_list = d[\"pixels\"].values\n",
    "    list_image_2d = [string_to_image(pixels) for pixels in pixels_list]\n",
    "        \n",
    "    # Convert list to 4D array:\n",
    "    X = np.expand_dims(np.array(list_image_2d), -1)\n",
    "    X = X / 255  \n",
    "    Y = to_categorical(d.emotion, CLASS_NUMBER)\n",
    "    \n",
    "    print(f\"The given dataset has been converted to {X.shape} array\")\n",
    "    \n",
    "    return X, Y"
   ]
  },
  {
   "cell_type": "markdown",
   "metadata": {},
   "source": [
    "<p>On applique la fonction <b><i>image_to_4d_array</i></b> sur les trois partitions</P>"
   ]
  },
  {
   "cell_type": "code",
   "execution_count": 6,
   "metadata": {},
   "outputs": [
    {
     "name": "stdout",
     "output_type": "stream",
     "text": [
      "The given dataset has been converted to (28709, 48, 48, 1) array\n",
      "The given dataset has been converted to (3589, 48, 48, 1) array\n",
      "The given dataset has been converted to (3589, 48, 48, 1) array\n"
     ]
    }
   ],
   "source": [
    "X_train, Y_train = image_to_4d_array(df_training)\n",
    "X_test, Y_test = image_to_4d_array(df_PrivateTest)\n",
    "X_valid, Y_valid = image_to_4d_array(df_PublicTest)"
   ]
  },
  {
   "cell_type": "markdown",
   "metadata": {},
   "source": [
    "<h3>Fonction <i>get_model_v23</i></h3>\n",
    "<p><ul>\n",
    "<li>Cette fonction <b style=\"backgroud-color:powerblue\"><i>get_model_v23</i></b> peut prendre seulement quelques hyperparametres</li>\n",
    "<li>Elle appelle <i style=\"color:blue\">keras.models.Sequential</i> qui nous permet de construire un modele cnn</li>\n",
    "<li>Les valeurs par defaut sont notre choix entre les meilleures, mais elle laisse des chances pour utilisateur de les choisir</li>\n",
    "<li>Elle retourne un architecture d'un modele Sequential qu'on peut l'entrainner et le tester</li>\n",
    "</ul></p>"
   ]
  },
  {
   "cell_type": "markdown",
   "metadata": {},
   "source": [
    "<h4>Points essentiels de la fonction <i>get_model_v23</i></h4>\n",
    "<p><ol>\n",
    "<li>Nombre de couche est 5 par defaut, mais elle peut etre un entier de choix</li>\n",
    "<li>Les nombres de filtre doivent en rapport avec le nombre de couche, preferable plus elevé pour les couches profondes.</li>\n",
    "<li>Les kenal sizes doivent en rapport avec le nombre de couche, preferable impaire le plus petit que possible</li>\n",
    "<li>Les pooling size doivent en rapport avec le nombre de couche, preferablement petit ou zero </li>\n",
    "<li>Les dropout values doivent en rapport avec le nombre de couche, faible quand pas de data augmentation</li>\n",
    "</ul></p>"
   ]
  },
  {
   "cell_type": "code",
   "execution_count": 7,
   "metadata": {},
   "outputs": [],
   "source": [
    "def get_model_v23(num_layers=5, lf=128, ld=0.5,\n",
    "                  num_filtre=(16, 32, 64, 128, 256), \n",
    "                  k_size=(3,3,3,3,3), \n",
    "                  p_size=(2,2,2,2,0), \n",
    "                  dropout=(0.0, 0.0, 0.5, 0.0, 0.0)):\n",
    "    \n",
    "    input_shape, num_classes, last_features, last_dropout = (48, 48, 1), 7, lf, ld\n",
    "    \n",
    "    model = Sequential()\n",
    "    \n",
    "    for layer in range(num_layers): \n",
    "        if layer == 0:\n",
    "            model.add(Conv2D(num_filtre[layer], kernel_size=k_size[layer], activation=tf.nn.relu, padding=\"same\", input_shape=input_shape))\n",
    "        else:\n",
    "            model.add(Conv2D(num_filtre[layer], kernel_size=k_size[layer], activation=tf.nn.relu, padding=\"same\"))\n",
    "            # normalization for each layer but not the first\n",
    "            model.add(BatchNormalization())\n",
    "        \n",
    "        # max pooling with the given choose\n",
    "        if p_size[layer] > 0:\n",
    "            model.add(MaxPooling2D(pool_size=(p_size[layer], p_size[layer])))\n",
    "        \n",
    "        # Dropout with the given choose\n",
    "        if dropout[layer] > 0:\n",
    "            model.add(Dropout(dropout[layer]))           \n",
    "        \n",
    "\n",
    "    model.add(Flatten())                          \n",
    "    model.add(Dense(last_features, activation=tf.nn.relu))\n",
    "    model.add(Dropout(last_dropout))\n",
    "    model.add(Dense(num_classes, activation=tf.nn.softmax))\n",
    "    model.compile(optimizer='adam', loss='categorical_crossentropy', metrics=['accuracy'])\n",
    "    return model"
   ]
  },
  {
   "cell_type": "markdown",
   "metadata": {},
   "source": [
    "<h3>Fonction <i>save_model</i></h3>\n",
    "<p><ul>\n",
    "<li>Cette fonction <b style=\"backgroud-color:powerblue\"><i>save_model</i></b> prend un Sequential model et nom de fichier</li>\n",
    "<li>Elle appelle <i style=\"color:blue\">keras.models.Sequential.to_json</i> et save_weights</li>\n",
    "</ul></p>"
   ]
  },
  {
   "cell_type": "code",
   "execution_count": 8,
   "metadata": {},
   "outputs": [],
   "source": [
    "def save_model(model, file_json=\"\", file_weight=\"\", workdir=\"\"):\n",
    "    # serialize model to JSON\n",
    "    model_json = model.to_json()\n",
    "    projet_dir = workdir if len(workdir)>0 else \"C:\\\\Users\\\\jeang\\\\Documents\\\\BDEB\\\\A62\\\\ProSyn3\"\n",
    "    model_filename = 'fer.json' if file_json==\"\" else file_json\n",
    "    with open(os.path.join(projet_dir, model_filename), \"w\") as json_file:\n",
    "        json_file.write(model_json)\n",
    "\n",
    "    # serialize weights to HDF5\n",
    "    # model.save_weights(\"C:\\\\Users\\\\Nisha Haulkhory\\\\projet de synthese\\\\GIT\\\\ProSyn3\\\\fer.h5\")\n",
    "    weight_filename = 'fer.h5' if file_weight==\"\" else file_weight\n",
    "    model.save_weights(os.path.join(projet_dir, weight_filename))\n",
    "    print(\"Model successfully saved to disk.\")"
   ]
  },
  {
   "cell_type": "markdown",
   "metadata": {},
   "source": [
    "<h3>Fonction <i>show_confusion_matrix</i></h3>\n",
    "<p><ul>\n",
    "<li>Cette fonction <b style=\"backgroud-color:powerblue\"><i>show_confusion_matrix</i></b> prend comme entree un model</li>\n",
    "<li>Elle appelle <i style=\"color:blue\">model.predict</i> et le testset pour y_pred</li>\n",
    "<li>Elle compare y_pred avec les valeurs real pour construire la matrix de confusion</li>\n",
    "<li>Elle normalize la matrix de confusion car les cibles dans notre donnees originales n'est pas uniforme </li>\n",
    "</ul></p>"
   ]
  },
  {
   "cell_type": "code",
   "execution_count": 9,
   "metadata": {},
   "outputs": [],
   "source": [
    "def show_confusion_matrix(model):\n",
    "    submission = pd.DataFrame(model.predict(X_test))\n",
    "    submission['label'] = submission.idxmax(axis=1)\n",
    "    # y_pred = submission['label']\n",
    "    # y_real = df_PrivateTest['emotion']\n",
    "    cm = confusion_matrix(submission['label'], df_PrivateTest['emotion'])\n",
    "    cm = cm.astype('float') / cm.sum(axis=1)[:, np.newaxis]\n",
    "    cm = cm.round(2)\n",
    "    return pd.DataFrame(cm)"
   ]
  },
  {
   "cell_type": "markdown",
   "metadata": {},
   "source": [
    "<h3>Class <i>BalancedDataGenerator</i></h3>\n",
    "<p><ul>\n",
    "<li>Cette class <b style=\"backgroud-color:powerblue\"><i>BalancedDataGenerator</i></b> est pour imbalanced dataset</li>\n",
    "<li>Elle select non uniformement les echantillons pour les agumenter et finir avec relativement uniform dataset</li>\n",
    "</ul></p>"
   ]
  },
  {
   "cell_type": "code",
   "execution_count": 10,
   "metadata": {},
   "outputs": [],
   "source": [
    "class BalancedDataGenerator(Sequence):\n",
    "    \"\"\"ImageDataGenerator + RandomOversampling\"\"\"\n",
    "    def __init__(self, x, y, datagen, batch_size=256):\n",
    "        self.datagen = datagen\n",
    "        self.batch_size = min(batch_size, x.shape[0])\n",
    "        datagen.fit(x)\n",
    "        self.gen, self.steps_per_epoch = balanced_batch_generator(x.reshape(x.shape[0], -1), y, \n",
    "                                                                  sampler=RandomOverSampler(), \n",
    "                                                                  batch_size=self.batch_size, keep_sparse=True)\n",
    "        self._shape = (self.steps_per_epoch * batch_size, *x.shape[1:])\n",
    "        \n",
    "    def __len__(self):\n",
    "        return self.steps_per_epoch\n",
    "\n",
    "    def __getitem__(self, idx):\n",
    "        x_batch, y_batch = self.gen.__next__()\n",
    "        x_batch = x_batch.reshape(-1, *self._shape[1:])\n",
    "        return self.datagen.flow(x_batch, y_batch, batch_size=self.batch_size).next()"
   ]
  },
  {
   "cell_type": "markdown",
   "metadata": {},
   "source": [
    "<h3>Objet <i>ImageDataGenerator</i></h3>\n",
    "<p><ul>\n",
    "<li>Cette instance d'objet <b style=\"backgroud-color:powerblue\"><i>datagen</i></b> est utilisable dans plusieurs cas pour data augmentation</li>\n",
    "</ul></p>"
   ]
  },
  {
   "cell_type": "code",
   "execution_count": 11,
   "metadata": {},
   "outputs": [],
   "source": [
    "datagen = ImageDataGenerator(featurewise_center=False,\n",
    "                             featurewise_std_normalization=False,\n",
    "                             rotation_range=45,\n",
    "                             width_shift_range=0.2,\n",
    "                             height_shift_range=0.2,\n",
    "                             shear_range=0.2,\n",
    "                             zoom_range=.2,\n",
    "                             horizontal_flip=True,\n",
    "                             vertical_flip=True)\n",
    "\n",
    "# bgen = BalancedDataGenerator(X_train, Y_train, datagen, batch_size=256)\n",
    "# steps_per_epoch = bgen.steps_per_epoch"
   ]
  },
  {
   "cell_type": "markdown",
   "metadata": {},
   "source": [
    "<h3>Fonction <i>fit_test_save_model</i></h3>\n",
    "<p><ul>\n",
    "<li>Cette fonction <b style=\"backgroud-color:powerblue\"><i>fit_test_save_model</i></b> regroupe plusieurs commandes</li>\n",
    "<li>Elle fournie une interface pour l'apprentissage, evaluation, visualisation, et sauvegarde du model cnn</li>\n",
    "<li>Si le drapeau <b style=\"backgroud-color:powerblue\"><i>aug</i></b> est False, elle apprend le model avec trainset et validation set</li>\n",
    "<li>Si le drapeau <b style=\"backgroud-color:powerblue\"><i>aug</i></b> est True, elle apprend le model avec augmented trainset</li>\n",
    "<li>Une fois l'apprentissage se termine, elle execute des commandes pour display l'histoire d'apprentissage, sauvegarder le model etc</li>\n",
    "</ul></p>"
   ]
  },
  {
   "cell_type": "code",
   "execution_count": 12,
   "metadata": {},
   "outputs": [],
   "source": [
    "def fit_test_save_model(model, x_train=X_train, y_train=Y_train, valid=(X_valid, Y_valid), \n",
    "                        aug=True, imbalance=False, dgen = datagen,\n",
    "                        bs=128, ep=30, fnm='fer.json', fnw='fer.h5'):\n",
    "    \n",
    "    print(\"Fitting the model ...\")\n",
    "    batch_size = min(bs, x_train.shape[0])\n",
    "    \n",
    "    if not aug:\n",
    "        l = model.fit(x=x_train, y=y_train, validation_data=valid, batch_size=batch_size, epochs=ep)\n",
    "    elif imbalance:\n",
    "        bgen = BalancedDataGenerator(x_train, y_train, dgen, batch_size=batch_size)\n",
    "        steps_per_epoch = bgen.steps_per_epoch\n",
    "        l = model.fit_generator(bgen, steps_per_epoch, epochs=ep, validation_data=valid, verbose = 1)\n",
    "    else:\n",
    "        l = model.fit_generator(dgen.flow(x_train, y_train, batch_size=batch_size), epochs=ep, validation_data=valid,\n",
    "                                verbose = 1, steps_per_epoch = x_train.shape[0] / 100,)\n",
    "        \n",
    "    sns.lineplot(data=pd.DataFrame(l.history)[['accuracy','val_accuracy']], palette=\"tab10\", linewidth=2.5);\n",
    "    save_model(model, file_json=fnm, file_weight=fnw)\n",
    "    print(\"Evaluating the model on test data ...\")\n",
    "    results = model.evaluate(X_test, Y_test)\n",
    "    print(\"test loss, test acc:\", results)\n",
    "    print(show_confusion_matrix(model))\n",
    "    return l, results"
   ]
  },
  {
   "cell_type": "markdown",
   "metadata": {},
   "source": [
    "<h3>1er exemple de construire un CNN model</h3>\n",
    "<p>Par defaut, il y a 5 couches, la taille ksize est (3,3) pour chaque couche</p>\n",
    "<p>Notons que les valeurs dropout sont 0 pour les 5 couches, mais last_dropout(ld) est 0.35</p>"
   ]
  },
  {
   "cell_type": "code",
   "execution_count": 13,
   "metadata": {},
   "outputs": [],
   "source": [
    "model = get_model_v23(num_filtre=(16, 32, 64, 128, 256), lf=256, ld=0.35, p_size=(2,2,2,2,0), dropout=(0.0, 0.0, 0.0, 0.0, 0.0))"
   ]
  },
  {
   "cell_type": "markdown",
   "metadata": {},
   "source": [
    "<h3>1er Exemple d'apprentissage un CNN model</h3>\n",
    "<p>Par defaut, il utilise technique de data augmentation uniformement sur tous les echantillons</p>"
   ]
  },
  {
   "cell_type": "code",
   "execution_count": 14,
   "metadata": {},
   "outputs": [
    {
     "name": "stdout",
     "output_type": "stream",
     "text": [
      "Fitting the model ...\n",
      "Epoch 1/50\n",
      "288/287 [==============================] - 123s 426ms/step - loss: 1.8257 - accuracy: 0.2487 - val_loss: 2.1456 - val_accuracy: 0.2232\n",
      "Epoch 2/50\n",
      "288/287 [==============================] - 117s 406ms/step - loss: 1.7691 - accuracy: 0.2715 - val_loss: 1.7515 - val_accuracy: 0.2669\n",
      "Epoch 3/50\n",
      "288/287 [==============================] - 119s 413ms/step - loss: 1.7100 - accuracy: 0.3082 - val_loss: 1.6581 - val_accuracy: 0.3488\n",
      "Epoch 4/50\n",
      "288/287 [==============================] - 119s 415ms/step - loss: 1.6275 - accuracy: 0.3585 - val_loss: 1.7609 - val_accuracy: 0.3235\n",
      "Epoch 5/50\n",
      "288/287 [==============================] - 118s 409ms/step - loss: 1.5560 - accuracy: 0.3961 - val_loss: 1.5712 - val_accuracy: 0.4026\n",
      "Epoch 6/50\n",
      "288/287 [==============================] - 115s 401ms/step - loss: 1.5067 - accuracy: 0.4182 - val_loss: 1.3816 - val_accuracy: 0.4687\n",
      "Epoch 7/50\n",
      "288/287 [==============================] - 114s 397ms/step - loss: 1.4665 - accuracy: 0.4357 - val_loss: 1.4368 - val_accuracy: 0.4363\n",
      "Epoch 8/50\n",
      "288/287 [==============================] - 118s 411ms/step - loss: 1.4342 - accuracy: 0.4490 - val_loss: 1.5110 - val_accuracy: 0.4118\n",
      "Epoch 9/50\n",
      "288/287 [==============================] - 114s 396ms/step - loss: 1.4097 - accuracy: 0.4616 - val_loss: 1.3170 - val_accuracy: 0.4968\n",
      "Epoch 10/50\n",
      "288/287 [==============================] - 117s 405ms/step - loss: 1.3810 - accuracy: 0.4738 - val_loss: 1.4872 - val_accuracy: 0.4620\n",
      "Epoch 11/50\n",
      "288/287 [==============================] - 114s 395ms/step - loss: 1.3594 - accuracy: 0.4826 - val_loss: 1.3581 - val_accuracy: 0.4731\n",
      "Epoch 12/50\n",
      "288/287 [==============================] - 113s 391ms/step - loss: 1.3409 - accuracy: 0.4904 - val_loss: 1.3487 - val_accuracy: 0.4809\n",
      "Epoch 13/50\n",
      "288/287 [==============================] - 112s 390ms/step - loss: 1.3275 - accuracy: 0.4975 - val_loss: 1.2373 - val_accuracy: 0.5219\n",
      "Epoch 14/50\n",
      "288/287 [==============================] - 112s 389ms/step - loss: 1.3109 - accuracy: 0.5006 - val_loss: 1.2555 - val_accuracy: 0.5202\n",
      "Epoch 15/50\n",
      "288/287 [==============================] - 113s 392ms/step - loss: 1.3026 - accuracy: 0.5077 - val_loss: 1.3542 - val_accuracy: 0.4804\n",
      "Epoch 16/50\n",
      "288/287 [==============================] - 113s 392ms/step - loss: 1.2869 - accuracy: 0.5129 - val_loss: 1.2519 - val_accuracy: 0.5210\n",
      "Epoch 17/50\n",
      "288/287 [==============================] - 112s 390ms/step - loss: 1.2734 - accuracy: 0.5163 - val_loss: 1.2307 - val_accuracy: 0.5325\n",
      "Epoch 18/50\n",
      "288/287 [==============================] - 112s 389ms/step - loss: 1.2666 - accuracy: 0.5197 - val_loss: 1.2737 - val_accuracy: 0.5244\n",
      "Epoch 19/50\n",
      "288/287 [==============================] - 112s 390ms/step - loss: 1.2602 - accuracy: 0.5231 - val_loss: 1.2092 - val_accuracy: 0.5361\n",
      "Epoch 20/50\n",
      "288/287 [==============================] - 113s 392ms/step - loss: 1.2487 - accuracy: 0.5259 - val_loss: 1.2046 - val_accuracy: 0.5417\n",
      "Epoch 21/50\n",
      "288/287 [==============================] - 113s 392ms/step - loss: 1.2366 - accuracy: 0.5311 - val_loss: 1.2037 - val_accuracy: 0.5430\n",
      "Epoch 22/50\n",
      "288/287 [==============================] - 112s 389ms/step - loss: 1.2325 - accuracy: 0.5335 - val_loss: 1.2603 - val_accuracy: 0.5213\n",
      "Epoch 23/50\n",
      "288/287 [==============================] - 113s 392ms/step - loss: 1.2261 - accuracy: 0.5342 - val_loss: 1.2121 - val_accuracy: 0.5394\n",
      "Epoch 24/50\n",
      "288/287 [==============================] - 113s 391ms/step - loss: 1.2180 - accuracy: 0.5387 - val_loss: 1.2214 - val_accuracy: 0.5397\n",
      "Epoch 25/50\n",
      "288/287 [==============================] - 113s 394ms/step - loss: 1.2140 - accuracy: 0.5415 - val_loss: 1.2869 - val_accuracy: 0.5040\n",
      "Epoch 26/50\n",
      "288/287 [==============================] - 113s 393ms/step - loss: 1.2007 - accuracy: 0.5441 - val_loss: 1.2129 - val_accuracy: 0.5389\n",
      "Epoch 27/50\n",
      "288/287 [==============================] - 112s 391ms/step - loss: 1.2038 - accuracy: 0.5458 - val_loss: 1.2420 - val_accuracy: 0.5350\n",
      "Epoch 28/50\n",
      "288/287 [==============================] - 113s 391ms/step - loss: 1.1964 - accuracy: 0.5477 - val_loss: 1.1669 - val_accuracy: 0.5581\n",
      "Epoch 29/50\n",
      "288/287 [==============================] - 112s 389ms/step - loss: 1.1902 - accuracy: 0.5514 - val_loss: 1.1950 - val_accuracy: 0.5536\n",
      "Epoch 30/50\n",
      "288/287 [==============================] - 112s 389ms/step - loss: 1.1832 - accuracy: 0.5507 - val_loss: 1.2055 - val_accuracy: 0.5472\n",
      "Epoch 31/50\n",
      "288/287 [==============================] - 120s 416ms/step - loss: 1.1820 - accuracy: 0.5536 - val_loss: 1.1610 - val_accuracy: 0.5614\n",
      "Epoch 32/50\n",
      "288/287 [==============================] - 117s 405ms/step - loss: 1.1766 - accuracy: 0.5547 - val_loss: 1.2129 - val_accuracy: 0.5333\n",
      "Epoch 33/50\n",
      "288/287 [==============================] - 118s 409ms/step - loss: 1.1695 - accuracy: 0.5549 - val_loss: 1.2031 - val_accuracy: 0.5358\n",
      "Epoch 34/50\n",
      "288/287 [==============================] - 117s 407ms/step - loss: 1.1670 - accuracy: 0.5602 - val_loss: 1.2307 - val_accuracy: 0.5386\n",
      "Epoch 35/50\n",
      "288/287 [==============================] - 117s 406ms/step - loss: 1.1632 - accuracy: 0.5593 - val_loss: 1.1908 - val_accuracy: 0.5570\n",
      "Epoch 36/50\n",
      "288/287 [==============================] - 117s 408ms/step - loss: 1.1633 - accuracy: 0.5608 - val_loss: 1.2560 - val_accuracy: 0.5255\n",
      "Epoch 37/50\n",
      "288/287 [==============================] - 117s 407ms/step - loss: 1.1553 - accuracy: 0.5632 - val_loss: 1.1511 - val_accuracy: 0.5653\n",
      "Epoch 38/50\n",
      "288/287 [==============================] - 115s 400ms/step - loss: 1.1540 - accuracy: 0.5649 - val_loss: 1.1737 - val_accuracy: 0.5570\n",
      "Epoch 39/50\n",
      "288/287 [==============================] - 115s 399ms/step - loss: 1.1469 - accuracy: 0.5664 - val_loss: 1.1684 - val_accuracy: 0.5709\n",
      "Epoch 40/50\n",
      "288/287 [==============================] - 116s 402ms/step - loss: 1.1442 - accuracy: 0.5671 - val_loss: 1.4118 - val_accuracy: 0.4896\n",
      "Epoch 41/50\n",
      "288/287 [==============================] - 115s 400ms/step - loss: 1.1432 - accuracy: 0.5681 - val_loss: 1.2434 - val_accuracy: 0.5230\n",
      "Epoch 42/50\n",
      "288/287 [==============================] - 115s 399ms/step - loss: 1.1386 - accuracy: 0.5715 - val_loss: 1.1349 - val_accuracy: 0.5734\n",
      "Epoch 43/50\n",
      "288/287 [==============================] - 114s 396ms/step - loss: 1.1368 - accuracy: 0.5713 - val_loss: 1.1353 - val_accuracy: 0.5698\n",
      "Epoch 44/50\n",
      "288/287 [==============================] - 113s 392ms/step - loss: 1.1370 - accuracy: 0.5702 - val_loss: 1.2653 - val_accuracy: 0.5163\n",
      "Epoch 45/50\n",
      "288/287 [==============================] - 113s 392ms/step - loss: 1.1288 - accuracy: 0.5738 - val_loss: 1.1495 - val_accuracy: 0.5670\n",
      "Epoch 46/50\n",
      "288/287 [==============================] - 114s 395ms/step - loss: 1.1283 - accuracy: 0.5729 - val_loss: 1.1795 - val_accuracy: 0.5589\n",
      "Epoch 47/50\n",
      "288/287 [==============================] - 113s 393ms/step - loss: 1.1259 - accuracy: 0.5735 - val_loss: 1.1111 - val_accuracy: 0.5874\n",
      "Epoch 48/50\n",
      "288/287 [==============================] - 115s 399ms/step - loss: 1.1210 - accuracy: 0.5761 - val_loss: 1.1511 - val_accuracy: 0.5782\n",
      "Epoch 49/50\n",
      "288/287 [==============================] - 134s 465ms/step - loss: 1.1209 - accuracy: 0.5772 - val_loss: 1.2254 - val_accuracy: 0.5456\n",
      "Epoch 50/50\n",
      "288/287 [==============================] - 134s 465ms/step - loss: 1.1175 - accuracy: 0.5786 - val_loss: 1.1939 - val_accuracy: 0.5598\n",
      "Saved model to disk done\n",
      "Evaluating the model on test data ...\n",
      "3589/3589 [==============================] - 1s 413us/step\n",
      "test loss, test acc: [1.1448599005449644, 0.561159074306488]\n"
     ]
    },
    {
     "ename": "NameError",
     "evalue": "name 'submission' is not defined",
     "output_type": "error",
     "traceback": [
      "\u001b[1;31m---------------------------------------------------------------------------\u001b[0m",
      "\u001b[1;31mNameError\u001b[0m                                 Traceback (most recent call last)",
      "\u001b[1;32m<ipython-input-14-fae8ac3b3715>\u001b[0m in \u001b[0;36m<module>\u001b[1;34m\u001b[0m\n\u001b[1;32m----> 1\u001b[1;33m \u001b[0ml\u001b[0m\u001b[1;33m,\u001b[0m\u001b[0mr\u001b[0m \u001b[1;33m=\u001b[0m \u001b[0mfit_test_save_model\u001b[0m\u001b[1;33m(\u001b[0m\u001b[0mmodel\u001b[0m\u001b[1;33m,\u001b[0m \u001b[0mbs\u001b[0m\u001b[1;33m=\u001b[0m\u001b[1;36m256\u001b[0m\u001b[1;33m,\u001b[0m \u001b[0mep\u001b[0m\u001b[1;33m=\u001b[0m\u001b[1;36m50\u001b[0m\u001b[1;33m,\u001b[0m \u001b[0mfnm\u001b[0m\u001b[1;33m=\u001b[0m\u001b[1;34m'fer231.json'\u001b[0m\u001b[1;33m,\u001b[0m \u001b[0mfnw\u001b[0m\u001b[1;33m=\u001b[0m\u001b[1;34m'fer231.h5'\u001b[0m\u001b[1;33m)\u001b[0m\u001b[1;33m\u001b[0m\u001b[1;33m\u001b[0m\u001b[0m\n\u001b[0m",
      "\u001b[1;32m<ipython-input-12-4a43081025e9>\u001b[0m in \u001b[0;36mfit_test_save_model\u001b[1;34m(model, x_train, y_train, valid, aug, imbalance, dgen, bs, ep, fnm, fnw)\u001b[0m\n\u001b[0;32m     21\u001b[0m     \u001b[0mresults\u001b[0m \u001b[1;33m=\u001b[0m \u001b[0mmodel\u001b[0m\u001b[1;33m.\u001b[0m\u001b[0mevaluate\u001b[0m\u001b[1;33m(\u001b[0m\u001b[0mX_test\u001b[0m\u001b[1;33m,\u001b[0m \u001b[0mY_test\u001b[0m\u001b[1;33m)\u001b[0m\u001b[1;33m\u001b[0m\u001b[1;33m\u001b[0m\u001b[0m\n\u001b[0;32m     22\u001b[0m     \u001b[0mprint\u001b[0m\u001b[1;33m(\u001b[0m\u001b[1;34m\"test loss, test acc:\"\u001b[0m\u001b[1;33m,\u001b[0m \u001b[0mresults\u001b[0m\u001b[1;33m)\u001b[0m\u001b[1;33m\u001b[0m\u001b[1;33m\u001b[0m\u001b[0m\n\u001b[1;32m---> 23\u001b[1;33m     \u001b[0mprint\u001b[0m\u001b[1;33m(\u001b[0m\u001b[0mshow_confusion_matrix\u001b[0m\u001b[1;33m(\u001b[0m\u001b[0mmodel\u001b[0m\u001b[1;33m)\u001b[0m\u001b[1;33m)\u001b[0m\u001b[1;33m\u001b[0m\u001b[1;33m\u001b[0m\u001b[0m\n\u001b[0m\u001b[0;32m     24\u001b[0m     \u001b[1;32mreturn\u001b[0m \u001b[0ml\u001b[0m\u001b[1;33m,\u001b[0m \u001b[0mresults\u001b[0m\u001b[1;33m\u001b[0m\u001b[1;33m\u001b[0m\u001b[0m\n",
      "\u001b[1;32m<ipython-input-9-f0e7507e3077>\u001b[0m in \u001b[0;36mshow_confusion_matrix\u001b[1;34m(model)\u001b[0m\n\u001b[0;32m      4\u001b[0m     \u001b[1;31m# y_pred = submission['label']\u001b[0m\u001b[1;33m\u001b[0m\u001b[1;33m\u001b[0m\u001b[1;33m\u001b[0m\u001b[0m\n\u001b[0;32m      5\u001b[0m     \u001b[1;31m# y_real = df_PrivateTest['emotion']\u001b[0m\u001b[1;33m\u001b[0m\u001b[1;33m\u001b[0m\u001b[1;33m\u001b[0m\u001b[0m\n\u001b[1;32m----> 6\u001b[1;33m     \u001b[0mcm\u001b[0m \u001b[1;33m=\u001b[0m \u001b[0mconfusion_matrix\u001b[0m\u001b[1;33m(\u001b[0m\u001b[0msubmission\u001b[0m\u001b[1;33m[\u001b[0m\u001b[1;34m'label'\u001b[0m\u001b[1;33m]\u001b[0m\u001b[1;33m,\u001b[0m \u001b[0mdf_PrivateTest\u001b[0m\u001b[1;33m[\u001b[0m\u001b[1;34m'emotion'\u001b[0m\u001b[1;33m]\u001b[0m\u001b[1;33m)\u001b[0m\u001b[1;33m\u001b[0m\u001b[1;33m\u001b[0m\u001b[0m\n\u001b[0m\u001b[0;32m      7\u001b[0m     \u001b[0mcm\u001b[0m \u001b[1;33m=\u001b[0m \u001b[0mcm\u001b[0m\u001b[1;33m.\u001b[0m\u001b[0mastype\u001b[0m\u001b[1;33m(\u001b[0m\u001b[1;34m'float'\u001b[0m\u001b[1;33m)\u001b[0m \u001b[1;33m/\u001b[0m \u001b[0mcm\u001b[0m\u001b[1;33m.\u001b[0m\u001b[0msum\u001b[0m\u001b[1;33m(\u001b[0m\u001b[0maxis\u001b[0m\u001b[1;33m=\u001b[0m\u001b[1;36m1\u001b[0m\u001b[1;33m)\u001b[0m\u001b[1;33m[\u001b[0m\u001b[1;33m:\u001b[0m\u001b[1;33m,\u001b[0m \u001b[0mnp\u001b[0m\u001b[1;33m.\u001b[0m\u001b[0mnewaxis\u001b[0m\u001b[1;33m]\u001b[0m\u001b[1;33m\u001b[0m\u001b[1;33m\u001b[0m\u001b[0m\n\u001b[0;32m      8\u001b[0m     \u001b[0mcm\u001b[0m \u001b[1;33m=\u001b[0m \u001b[0mcm\u001b[0m\u001b[1;33m.\u001b[0m\u001b[0mround\u001b[0m\u001b[1;33m(\u001b[0m\u001b[1;36m2\u001b[0m\u001b[1;33m)\u001b[0m\u001b[1;33m\u001b[0m\u001b[1;33m\u001b[0m\u001b[0m\n",
      "\u001b[1;31mNameError\u001b[0m: name 'submission' is not defined"
     ]
    },
    {
     "data": {
      "image/png": "[encoded data removed]",
      "text/plain": [
       "<Figure size 432x288 with 1 Axes>"
      ]
     },
     "metadata": {
      "needs_background": "light"
     },
     "output_type": "display_data"
    }
   ],
   "source": [
    "l,r = fit_test_save_model(model, bs=256, ep=50, fnm='fer231.json', fnw='fer231.h5')"
   ]
  },
  {
   "cell_type": "code",
   "execution_count": 16,
   "metadata": {},
   "outputs": [
    {
     "data": {
      "text/html": [
       "<div>\n",
       "<style scoped>\n",
       "    .dataframe tbody tr th:only-of-type {\n",
       "        vertical-align: middle;\n",
       "    }\n",
       "\n",
       "    .dataframe tbody tr th {\n",
       "        vertical-align: top;\n",
       "    }\n",
       "\n",
       "    .dataframe thead th {\n",
       "        text-align: right;\n",
       "    }\n",
       "</style>\n",
       "<table border=\"1\" class=\"dataframe\">\n",
       "  <thead>\n",
       "    <tr style=\"text-align: right;\">\n",
       "      <th></th>\n",
       "      <th>0</th>\n",
       "      <th>1</th>\n",
       "      <th>2</th>\n",
       "      <th>3</th>\n",
       "      <th>4</th>\n",
       "      <th>5</th>\n",
       "      <th>6</th>\n",
       "    </tr>\n",
       "  </thead>\n",
       "  <tbody>\n",
       "    <tr>\n",
       "      <th>0</th>\n",
       "      <td>0.45</td>\n",
       "      <td>0.06</td>\n",
       "      <td>0.18</td>\n",
       "      <td>0.09</td>\n",
       "      <td>0.13</td>\n",
       "      <td>0.04</td>\n",
       "      <td>0.05</td>\n",
       "    </tr>\n",
       "    <tr>\n",
       "      <th>1</th>\n",
       "      <td>0.00</td>\n",
       "      <td>0.62</td>\n",
       "      <td>0.12</td>\n",
       "      <td>0.00</td>\n",
       "      <td>0.25</td>\n",
       "      <td>0.00</td>\n",
       "      <td>0.00</td>\n",
       "    </tr>\n",
       "    <tr>\n",
       "      <th>2</th>\n",
       "      <td>0.14</td>\n",
       "      <td>0.01</td>\n",
       "      <td>0.39</td>\n",
       "      <td>0.07</td>\n",
       "      <td>0.15</td>\n",
       "      <td>0.15</td>\n",
       "      <td>0.08</td>\n",
       "    </tr>\n",
       "    <tr>\n",
       "      <th>3</th>\n",
       "      <td>0.02</td>\n",
       "      <td>0.00</td>\n",
       "      <td>0.04</td>\n",
       "      <td>0.80</td>\n",
       "      <td>0.05</td>\n",
       "      <td>0.03</td>\n",
       "      <td>0.05</td>\n",
       "    </tr>\n",
       "    <tr>\n",
       "      <th>4</th>\n",
       "      <td>0.16</td>\n",
       "      <td>0.02</td>\n",
       "      <td>0.19</td>\n",
       "      <td>0.03</td>\n",
       "      <td>0.42</td>\n",
       "      <td>0.02</td>\n",
       "      <td>0.17</td>\n",
       "    </tr>\n",
       "    <tr>\n",
       "      <th>5</th>\n",
       "      <td>0.04</td>\n",
       "      <td>0.01</td>\n",
       "      <td>0.17</td>\n",
       "      <td>0.04</td>\n",
       "      <td>0.03</td>\n",
       "      <td>0.64</td>\n",
       "      <td>0.07</td>\n",
       "    </tr>\n",
       "    <tr>\n",
       "      <th>6</th>\n",
       "      <td>0.13</td>\n",
       "      <td>0.00</td>\n",
       "      <td>0.09</td>\n",
       "      <td>0.07</td>\n",
       "      <td>0.20</td>\n",
       "      <td>0.01</td>\n",
       "      <td>0.50</td>\n",
       "    </tr>\n",
       "  </tbody>\n",
       "</table>\n",
       "</div>"
      ],
      "text/plain": [
       "      0     1     2     3     4     5     6\n",
       "0  0.45  0.06  0.18  0.09  0.13  0.04  0.05\n",
       "1  0.00  0.62  0.12  0.00  0.25  0.00  0.00\n",
       "2  0.14  0.01  0.39  0.07  0.15  0.15  0.08\n",
       "3  0.02  0.00  0.04  0.80  0.05  0.03  0.05\n",
       "4  0.16  0.02  0.19  0.03  0.42  0.02  0.17\n",
       "5  0.04  0.01  0.17  0.04  0.03  0.64  0.07\n",
       "6  0.13  0.00  0.09  0.07  0.20  0.01  0.50"
      ]
     },
     "execution_count": 16,
     "metadata": {},
     "output_type": "execute_result"
    }
   ],
   "source": [
    "show_confusion_matrix(model)"
   ]
  },
  {
   "cell_type": "markdown",
   "metadata": {},
   "source": [
    "<h3>2eme exemple de construire un CNN model</h3>\n",
    "<p>Par defaut, il y a 5 couches, la taille ksize est (3,3) pour chaque couche</p>\n",
    "<p>Notons que les valeurs dropout sont 0.2 ou 0.25 pour les 5 couches, et last_dropout(ld) est 0.5</p>"
   ]
  },
  {
   "cell_type": "code",
   "execution_count": 13,
   "metadata": {},
   "outputs": [],
   "source": [
    "model = get_model_v23(num_filtre=(16, 32, 64, 128, 256), lf=256, ld=0.5, p_size=(2,2,2,2,0), dropout=(0.20, 0.20, 0.25, 0.20, 0.20))"
   ]
  },
  {
   "cell_type": "markdown",
   "metadata": {},
   "source": [
    "<h3>2eme Exemple d'apprentissage un CNN model</h3>\n",
    "<p>Cette fois, il n'utilise pas de technique de data augmentation</p>"
   ]
  },
  {
   "cell_type": "code",
   "execution_count": 14,
   "metadata": {},
   "outputs": [
    {
     "name": "stdout",
     "output_type": "stream",
     "text": [
      "Fitting the model ...\n",
      "Train on 28709 samples, validate on 3589 samples\n",
      "Epoch 1/50\n",
      "28709/28709 [==============================] - 51s 2ms/step - loss: 1.8900 - accuracy: 0.2353 - val_loss: 2.0775 - val_accuracy: 0.2494\n",
      "Epoch 2/50\n",
      "28709/28709 [==============================] - 50s 2ms/step - loss: 1.7935 - accuracy: 0.2590 - val_loss: 1.9904 - val_accuracy: 0.1694\n",
      "Epoch 3/50\n",
      "28709/28709 [==============================] - 51s 2ms/step - loss: 1.7477 - accuracy: 0.2901 - val_loss: 1.8258 - val_accuracy: 0.2722\n",
      "Epoch 4/50\n",
      "28709/28709 [==============================] - 49s 2ms/step - loss: 1.6806 - accuracy: 0.3326 - val_loss: 1.7297 - val_accuracy: 0.3037\n",
      "Epoch 5/50\n",
      "28709/28709 [==============================] - 49s 2ms/step - loss: 1.6156 - accuracy: 0.3653 - val_loss: 1.5674 - val_accuracy: 0.3940\n",
      "Epoch 6/50\n",
      "28709/28709 [==============================] - 49s 2ms/step - loss: 1.5540 - accuracy: 0.3989 - val_loss: 1.4715 - val_accuracy: 0.4227\n",
      "Epoch 7/50\n",
      "28709/28709 [==============================] - 49s 2ms/step - loss: 1.5041 - accuracy: 0.4194 - val_loss: 1.3739 - val_accuracy: 0.4636\n",
      "Epoch 8/50\n",
      "28709/28709 [==============================] - 49s 2ms/step - loss: 1.4613 - accuracy: 0.4362 - val_loss: 1.3496 - val_accuracy: 0.4776\n",
      "Epoch 9/50\n",
      "28709/28709 [==============================] - 48s 2ms/step - loss: 1.4282 - accuracy: 0.4506 - val_loss: 1.3166 - val_accuracy: 0.4851\n",
      "Epoch 10/50\n",
      "28709/28709 [==============================] - 49s 2ms/step - loss: 1.3945 - accuracy: 0.4598 - val_loss: 1.3241 - val_accuracy: 0.4854\n",
      "Epoch 11/50\n",
      "28709/28709 [==============================] - 49s 2ms/step - loss: 1.3616 - accuracy: 0.4796 - val_loss: 1.2976 - val_accuracy: 0.4929\n",
      "Epoch 12/50\n",
      "28709/28709 [==============================] - 49s 2ms/step - loss: 1.3359 - accuracy: 0.4891 - val_loss: 1.3209 - val_accuracy: 0.4940\n",
      "Epoch 13/50\n",
      "28709/28709 [==============================] - 50s 2ms/step - loss: 1.3093 - accuracy: 0.5052 - val_loss: 1.2785 - val_accuracy: 0.5157\n",
      "Epoch 14/50\n",
      "28709/28709 [==============================] - 50s 2ms/step - loss: 1.2866 - accuracy: 0.5113 - val_loss: 1.2160 - val_accuracy: 0.5333\n",
      "Epoch 15/50\n",
      "28709/28709 [==============================] - 49s 2ms/step - loss: 1.2635 - accuracy: 0.5205 - val_loss: 1.2310 - val_accuracy: 0.5288\n",
      "Epoch 16/50\n",
      "28709/28709 [==============================] - 50s 2ms/step - loss: 1.2437 - accuracy: 0.5262 - val_loss: 1.1890 - val_accuracy: 0.5417\n",
      "Epoch 17/50\n",
      "28709/28709 [==============================] - 48s 2ms/step - loss: 1.2162 - accuracy: 0.5417 - val_loss: 1.2121 - val_accuracy: 0.5411\n",
      "Epoch 18/50\n",
      "28709/28709 [==============================] - 48s 2ms/step - loss: 1.1951 - accuracy: 0.5482 - val_loss: 1.2145 - val_accuracy: 0.5439\n",
      "Epoch 19/50\n",
      "28709/28709 [==============================] - 48s 2ms/step - loss: 1.1830 - accuracy: 0.5501 - val_loss: 1.1938 - val_accuracy: 0.5587\n",
      "Epoch 20/50\n",
      "28709/28709 [==============================] - 48s 2ms/step - loss: 1.1580 - accuracy: 0.5619 - val_loss: 1.2411 - val_accuracy: 0.5447\n",
      "Epoch 21/50\n",
      "28709/28709 [==============================] - 49s 2ms/step - loss: 1.1450 - accuracy: 0.5650 - val_loss: 1.1678 - val_accuracy: 0.5598\n",
      "Epoch 22/50\n",
      "28709/28709 [==============================] - 49s 2ms/step - loss: 1.1225 - accuracy: 0.5763 - val_loss: 1.1485 - val_accuracy: 0.5648\n",
      "Epoch 23/50\n",
      "28709/28709 [==============================] - 48s 2ms/step - loss: 1.1045 - accuracy: 0.5819 - val_loss: 1.1309 - val_accuracy: 0.5726\n",
      "Epoch 24/50\n",
      "28709/28709 [==============================] - 49s 2ms/step - loss: 1.0907 - accuracy: 0.5919 - val_loss: 1.1285 - val_accuracy: 0.5756\n",
      "Epoch 25/50\n",
      "28709/28709 [==============================] - 50s 2ms/step - loss: 1.0654 - accuracy: 0.5985 - val_loss: 1.1502 - val_accuracy: 0.5723\n",
      "Epoch 26/50\n",
      "28709/28709 [==============================] - 50s 2ms/step - loss: 1.0501 - accuracy: 0.6030 - val_loss: 1.1705 - val_accuracy: 0.5598\n",
      "Epoch 27/50\n",
      "28709/28709 [==============================] - 49s 2ms/step - loss: 1.0356 - accuracy: 0.6105 - val_loss: 1.2270 - val_accuracy: 0.5639\n",
      "Epoch 28/50\n",
      "28709/28709 [==============================] - 49s 2ms/step - loss: 1.0165 - accuracy: 0.6163 - val_loss: 1.1723 - val_accuracy: 0.5726\n",
      "Epoch 29/50\n",
      "28709/28709 [==============================] - 49s 2ms/step - loss: 1.0013 - accuracy: 0.6216 - val_loss: 1.2297 - val_accuracy: 0.5575\n",
      "Epoch 30/50\n",
      "28709/28709 [==============================] - 48s 2ms/step - loss: 0.9834 - accuracy: 0.6309 - val_loss: 1.1554 - val_accuracy: 0.5779\n",
      "Epoch 31/50\n",
      "28709/28709 [==============================] - 49s 2ms/step - loss: 0.9765 - accuracy: 0.6304 - val_loss: 1.1682 - val_accuracy: 0.5765\n",
      "Epoch 32/50\n",
      "28709/28709 [==============================] - 49s 2ms/step - loss: 0.9645 - accuracy: 0.6386 - val_loss: 1.1653 - val_accuracy: 0.5779\n",
      "Epoch 33/50\n",
      "28709/28709 [==============================] - 48s 2ms/step - loss: 0.9415 - accuracy: 0.6463 - val_loss: 1.1423 - val_accuracy: 0.5904\n",
      "Epoch 34/50\n",
      "28709/28709 [==============================] - 48s 2ms/step - loss: 0.9259 - accuracy: 0.6533 - val_loss: 1.1301 - val_accuracy: 0.5929\n",
      "Epoch 35/50\n",
      "28709/28709 [==============================] - 48s 2ms/step - loss: 0.9210 - accuracy: 0.6535 - val_loss: 1.1543 - val_accuracy: 0.5952\n",
      "Epoch 36/50\n",
      "28709/28709 [==============================] - 49s 2ms/step - loss: 0.8999 - accuracy: 0.6582 - val_loss: 1.1410 - val_accuracy: 0.6018\n",
      "Epoch 37/50\n",
      "28709/28709 [==============================] - 49s 2ms/step - loss: 0.8901 - accuracy: 0.6638 - val_loss: 1.1667 - val_accuracy: 0.5938\n",
      "Epoch 38/50\n",
      "28709/28709 [==============================] - 49s 2ms/step - loss: 0.8823 - accuracy: 0.6695 - val_loss: 1.1915 - val_accuracy: 0.5932\n",
      "Epoch 39/50\n",
      "28709/28709 [==============================] - 48s 2ms/step - loss: 0.8678 - accuracy: 0.6737 - val_loss: 1.1455 - val_accuracy: 0.6021\n",
      "Epoch 40/50\n",
      "28709/28709 [==============================] - 48s 2ms/step - loss: 0.8447 - accuracy: 0.6823 - val_loss: 1.1668 - val_accuracy: 0.5879\n",
      "Epoch 41/50\n",
      "28709/28709 [==============================] - 48s 2ms/step - loss: 0.8413 - accuracy: 0.6833 - val_loss: 1.1873 - val_accuracy: 0.5935\n",
      "Epoch 42/50\n",
      "28709/28709 [==============================] - 48s 2ms/step - loss: 0.8288 - accuracy: 0.6900 - val_loss: 1.1981 - val_accuracy: 0.5938\n",
      "Epoch 43/50\n",
      "28709/28709 [==============================] - 48s 2ms/step - loss: 0.8195 - accuracy: 0.6930 - val_loss: 1.2021 - val_accuracy: 0.5874\n",
      "Epoch 44/50\n",
      "28709/28709 [==============================] - 48s 2ms/step - loss: 0.7928 - accuracy: 0.7028 - val_loss: 1.1918 - val_accuracy: 0.5940\n",
      "Epoch 45/50\n",
      "28709/28709 [==============================] - 49s 2ms/step - loss: 0.8038 - accuracy: 0.6986 - val_loss: 1.1824 - val_accuracy: 0.5991\n",
      "Epoch 46/50\n",
      "28709/28709 [==============================] - 48s 2ms/step - loss: 0.7849 - accuracy: 0.7081 - val_loss: 1.1570 - val_accuracy: 0.5996\n",
      "Epoch 47/50\n",
      "28709/28709 [==============================] - 48s 2ms/step - loss: 0.7821 - accuracy: 0.7097 - val_loss: 1.2267 - val_accuracy: 0.5943\n",
      "Epoch 48/50\n",
      "28709/28709 [==============================] - 48s 2ms/step - loss: 0.7749 - accuracy: 0.7097 - val_loss: 1.1853 - val_accuracy: 0.5977\n",
      "Epoch 49/50\n",
      "28709/28709 [==============================] - 48s 2ms/step - loss: 0.7554 - accuracy: 0.7183 - val_loss: 1.2074 - val_accuracy: 0.6069\n",
      "Epoch 50/50\n",
      "28709/28709 [==============================] - 48s 2ms/step - loss: 0.7470 - accuracy: 0.7230 - val_loss: 1.2361 - val_accuracy: 0.5890\n",
      "Saved model to disk done\n",
      "Evaluating the model on test data ...\n",
      "3589/3589 [==============================] - 2s 440us/step\n",
      "test loss, test acc: [1.154419337052361, 0.6143772602081299]\n",
      "      0     1     2     3     4     5     6\n",
      "0  0.50  0.03  0.13  0.07  0.15  0.03  0.10\n",
      "1  0.06  0.83  0.08  0.00  0.00  0.00  0.03\n",
      "2  0.12  0.01  0.50  0.06  0.17  0.07  0.07\n",
      "3  0.02  0.00  0.02  0.85  0.03  0.02  0.05\n",
      "4  0.12  0.00  0.16  0.10  0.44  0.02  0.15\n",
      "5  0.03  0.00  0.15  0.05  0.02  0.73  0.02\n",
      "6  0.09  0.00  0.09  0.06  0.15  0.02  0.58\n"
     ]
    },
    {
     "data": {
      "image/png": "[encoded data removed]",
      "text/plain": [
       "<Figure size 432x288 with 1 Axes>"
      ]
     },
     "metadata": {
      "needs_background": "light"
     },
     "output_type": "display_data"
    }
   ],
   "source": [
    "l,r = fit_test_save_model(model, bs=256, ep=50, aug=False, fnm='fer232.json', fnw='fer232.h5')"
   ]
  },
  {
   "cell_type": "markdown",
   "metadata": {},
   "source": [
    "<h3>3eme exemple de construire un CNN model</h3>\n",
    "<p>Par defaut, il y a 5 couches, la taille k_size est (3,3) pour chaque couche</p>\n",
    "<p>Notons que les valeurs dropout sont 0 pour les 5 couches, mais last_dropout(ld) est 0.35</p>"
   ]
  },
  {
   "cell_type": "code",
   "execution_count": 15,
   "metadata": {},
   "outputs": [],
   "source": [
    "model = get_model_v23(num_filtre=(16, 32, 64, 128, 256), lf=256, ld=0.35, p_size=(2,2,2,2,0), dropout=(0.0, 0.0, 0.0, 0.0, 0.0))"
   ]
  },
  {
   "cell_type": "markdown",
   "metadata": {},
   "source": [
    "<h3>3eme Exemple d'apprentissage un CNN model</h3>\n",
    "<p>Cette fois, il utilise technique de imbalanced data augmentation</p>"
   ]
  },
  {
   "cell_type": "code",
   "execution_count": 17,
   "metadata": {},
   "outputs": [
    {
     "name": "stdout",
     "output_type": "stream",
     "text": [
      "Fitting the model ...\n"
     ]
    },
    {
     "name": "stderr",
     "output_type": "stream",
     "text": [
      "C:\\Users\\jeang\\anaconda3\\envs\\rl_env\\lib\\site-packages\\sklearn\\utils\\validation.py:71: FutureWarning: Pass classes=[0 1 2 3 4 5 6] as keyword args. From version 0.25 passing these as positional arguments will result in an error\n",
      "  FutureWarning)\n"
     ]
    },
    {
     "name": "stdout",
     "output_type": "stream",
     "text": [
      "Epoch 1/50\n",
      "197/197 [==============================] - 79s 403ms/step - loss: 1.9623 - accuracy: 0.1813 - val_loss: 2.2761 - val_accuracy: 0.0162\n",
      "Epoch 2/50\n",
      "197/197 [==============================] - 79s 399ms/step - loss: 1.9119 - accuracy: 0.1967 - val_loss: 2.4423 - val_accuracy: 0.0156\n",
      "Epoch 3/50\n",
      "197/197 [==============================] - 78s 394ms/step - loss: 1.8896 - accuracy: 0.2160 - val_loss: 2.1790 - val_accuracy: 0.0688\n",
      "Epoch 4/50\n",
      "197/197 [==============================] - 79s 399ms/step - loss: 1.8464 - accuracy: 0.2446 - val_loss: 1.9859 - val_accuracy: 0.1480\n",
      "Epoch 5/50\n",
      "197/197 [==============================] - 78s 395ms/step - loss: 1.8024 - accuracy: 0.2682 - val_loss: 1.8463 - val_accuracy: 0.2385\n",
      "Epoch 6/50\n",
      "197/197 [==============================] - 78s 394ms/step - loss: 1.7614 - accuracy: 0.2909 - val_loss: 1.7264 - val_accuracy: 0.2828\n",
      "Epoch 7/50\n",
      "197/197 [==============================] - 78s 395ms/step - loss: 1.7179 - accuracy: 0.3186 - val_loss: 1.6008 - val_accuracy: 0.3773\n",
      "Epoch 8/50\n",
      "197/197 [==============================] - 78s 394ms/step - loss: 1.6676 - accuracy: 0.3479 - val_loss: 1.6041 - val_accuracy: 0.3714\n",
      "Epoch 9/50\n",
      "197/197 [==============================] - 77s 390ms/step - loss: 1.6145 - accuracy: 0.3759 - val_loss: 1.6480 - val_accuracy: 0.3416\n",
      "Epoch 10/50\n",
      "197/197 [==============================] - 77s 392ms/step - loss: 1.5757 - accuracy: 0.3928 - val_loss: 1.5687 - val_accuracy: 0.3929\n",
      "Epoch 11/50\n",
      "197/197 [==============================] - 77s 391ms/step - loss: 1.5332 - accuracy: 0.4147 - val_loss: 1.5147 - val_accuracy: 0.3979\n",
      "Epoch 12/50\n",
      "197/197 [==============================] - 77s 391ms/step - loss: 1.4945 - accuracy: 0.4294 - val_loss: 1.4441 - val_accuracy: 0.4503\n",
      "Epoch 13/50\n",
      "197/197 [==============================] - 77s 390ms/step - loss: 1.4712 - accuracy: 0.4417 - val_loss: 1.4201 - val_accuracy: 0.4547\n",
      "Epoch 14/50\n",
      "197/197 [==============================] - 77s 393ms/step - loss: 1.4408 - accuracy: 0.4523 - val_loss: 1.3782 - val_accuracy: 0.4695\n",
      "Epoch 15/50\n",
      "197/197 [==============================] - 77s 393ms/step - loss: 1.4195 - accuracy: 0.4603 - val_loss: 1.3637 - val_accuracy: 0.4734\n",
      "Epoch 16/50\n",
      "197/197 [==============================] - 77s 391ms/step - loss: 1.4060 - accuracy: 0.4656 - val_loss: 1.2722 - val_accuracy: 0.5068\n",
      "Epoch 17/50\n",
      "197/197 [==============================] - 77s 391ms/step - loss: 1.3759 - accuracy: 0.4784 - val_loss: 1.3391 - val_accuracy: 0.4948\n",
      "Epoch 18/50\n",
      "197/197 [==============================] - 77s 393ms/step - loss: 1.3689 - accuracy: 0.4827 - val_loss: 1.3520 - val_accuracy: 0.4762\n",
      "Epoch 19/50\n",
      "197/197 [==============================] - 78s 396ms/step - loss: 1.3589 - accuracy: 0.4859 - val_loss: 1.5301 - val_accuracy: 0.4152\n",
      "Epoch 20/50\n",
      "197/197 [==============================] - 77s 393ms/step - loss: 1.3383 - accuracy: 0.4932 - val_loss: 1.3219 - val_accuracy: 0.4790\n",
      "Epoch 21/50\n",
      "197/197 [==============================] - 77s 391ms/step - loss: 1.3253 - accuracy: 0.4979 - val_loss: 1.2934 - val_accuracy: 0.4982\n",
      "Epoch 22/50\n",
      "197/197 [==============================] - 77s 391ms/step - loss: 1.3188 - accuracy: 0.5016 - val_loss: 1.3761 - val_accuracy: 0.4592\n",
      "Epoch 23/50\n",
      "197/197 [==============================] - 77s 392ms/step - loss: 1.3016 - accuracy: 0.5077 - val_loss: 1.3659 - val_accuracy: 0.4692\n",
      "Epoch 24/50\n",
      "197/197 [==============================] - 78s 394ms/step - loss: 1.2873 - accuracy: 0.5149 - val_loss: 1.4075 - val_accuracy: 0.4634\n",
      "Epoch 25/50\n",
      "197/197 [==============================] - 77s 390ms/step - loss: 1.2778 - accuracy: 0.5134 - val_loss: 1.2280 - val_accuracy: 0.5235\n",
      "Epoch 26/50\n",
      "197/197 [==============================] - 77s 392ms/step - loss: 1.2678 - accuracy: 0.5201 - val_loss: 1.3012 - val_accuracy: 0.5091\n",
      "Epoch 27/50\n",
      "197/197 [==============================] - 77s 392ms/step - loss: 1.2580 - accuracy: 0.5237 - val_loss: 1.2637 - val_accuracy: 0.5077\n",
      "Epoch 28/50\n",
      "197/197 [==============================] - 77s 391ms/step - loss: 1.2477 - accuracy: 0.5290 - val_loss: 1.3046 - val_accuracy: 0.4926\n",
      "Epoch 29/50\n",
      "197/197 [==============================] - 77s 393ms/step - loss: 1.2423 - accuracy: 0.5309 - val_loss: 1.3554 - val_accuracy: 0.4781\n",
      "Epoch 30/50\n",
      "197/197 [==============================] - 77s 392ms/step - loss: 1.2364 - accuracy: 0.5325 - val_loss: 1.2771 - val_accuracy: 0.5063\n",
      "Epoch 31/50\n",
      "197/197 [==============================] - 78s 395ms/step - loss: 1.2299 - accuracy: 0.5385 - val_loss: 1.3581 - val_accuracy: 0.4817\n",
      "Epoch 32/50\n",
      "197/197 [==============================] - 77s 391ms/step - loss: 1.2172 - accuracy: 0.5384 - val_loss: 1.3349 - val_accuracy: 0.4976\n",
      "Epoch 33/50\n",
      "197/197 [==============================] - 77s 391ms/step - loss: 1.2158 - accuracy: 0.5430 - val_loss: 1.3025 - val_accuracy: 0.5038\n",
      "Epoch 34/50\n",
      "197/197 [==============================] - 77s 390ms/step - loss: 1.2019 - accuracy: 0.5434 - val_loss: 1.2756 - val_accuracy: 0.5199\n",
      "Epoch 35/50\n",
      "197/197 [==============================] - 77s 393ms/step - loss: 1.1984 - accuracy: 0.5450 - val_loss: 1.3977 - val_accuracy: 0.4714\n",
      "Epoch 36/50\n",
      "197/197 [==============================] - 77s 392ms/step - loss: 1.1954 - accuracy: 0.5476 - val_loss: 1.2455 - val_accuracy: 0.5238\n",
      "Epoch 37/50\n",
      "197/197 [==============================] - 77s 392ms/step - loss: 1.1839 - accuracy: 0.5513 - val_loss: 1.2745 - val_accuracy: 0.5163\n",
      "Epoch 38/50\n",
      "197/197 [==============================] - 78s 394ms/step - loss: 1.1861 - accuracy: 0.5517 - val_loss: 1.3706 - val_accuracy: 0.4801\n",
      "Epoch 39/50\n",
      "197/197 [==============================] - 77s 392ms/step - loss: 1.1795 - accuracy: 0.5567 - val_loss: 1.2188 - val_accuracy: 0.5347\n",
      "Epoch 40/50\n",
      "197/197 [==============================] - 77s 392ms/step - loss: 1.1735 - accuracy: 0.5579 - val_loss: 1.2886 - val_accuracy: 0.5160\n",
      "Epoch 41/50\n",
      "197/197 [==============================] - 78s 397ms/step - loss: 1.1654 - accuracy: 0.5601 - val_loss: 1.1668 - val_accuracy: 0.5486\n",
      "Epoch 42/50\n",
      "197/197 [==============================] - 77s 393ms/step - loss: 1.1538 - accuracy: 0.5654 - val_loss: 1.2611 - val_accuracy: 0.5188\n",
      "Epoch 43/50\n",
      "197/197 [==============================] - 78s 395ms/step - loss: 1.1552 - accuracy: 0.5642 - val_loss: 1.2072 - val_accuracy: 0.5436\n",
      "Epoch 44/50\n",
      "197/197 [==============================] - 78s 394ms/step - loss: 1.1490 - accuracy: 0.5654 - val_loss: 1.2410 - val_accuracy: 0.5319\n",
      "Epoch 45/50\n",
      "197/197 [==============================] - 77s 393ms/step - loss: 1.1381 - accuracy: 0.5689 - val_loss: 1.2198 - val_accuracy: 0.5428\n",
      "Epoch 46/50\n",
      "197/197 [==============================] - 77s 392ms/step - loss: 1.1395 - accuracy: 0.5686 - val_loss: 1.2210 - val_accuracy: 0.5288\n",
      "Epoch 47/50\n",
      "197/197 [==============================] - 77s 391ms/step - loss: 1.1385 - accuracy: 0.5697 - val_loss: 1.1391 - val_accuracy: 0.5637\n",
      "Epoch 48/50\n",
      "197/197 [==============================] - 77s 391ms/step - loss: 1.1268 - accuracy: 0.5749 - val_loss: 1.1773 - val_accuracy: 0.5556\n",
      "Epoch 49/50\n",
      "197/197 [==============================] - 77s 392ms/step - loss: 1.1217 - accuracy: 0.5772 - val_loss: 1.1811 - val_accuracy: 0.5453\n",
      "Epoch 50/50\n",
      "197/197 [==============================] - 77s 393ms/step - loss: 1.1200 - accuracy: 0.5788 - val_loss: 1.3828 - val_accuracy: 0.4921\n",
      "Saved model to disk done\n",
      "Evaluating the model on test data ...\n",
      "3589/3589 [==============================] - 2s 419us/step\n",
      "test loss, test acc: [1.3638874607253586, 0.49818891286849976]\n",
      "      0     1     2     3     4     5     6\n",
      "0  0.31  0.02  0.19  0.14  0.20  0.04  0.11\n",
      "1  0.17  0.13  0.18  0.07  0.20  0.11  0.14\n",
      "2  0.07  0.00  0.45  0.03  0.16  0.14  0.13\n",
      "3  0.01  0.00  0.01  0.90  0.02  0.03  0.03\n",
      "4  0.07  0.02  0.22  0.09  0.46  0.00  0.14\n",
      "5  0.02  0.00  0.16  0.05  0.03  0.66  0.07\n",
      "6  0.09  0.00  0.09  0.12  0.22  0.02  0.46\n"
     ]
    },
    {
     "data": {
      "image/png": "[encoded data removed]",
      "text/plain": [
       "<Figure size 432x288 with 1 Axes>"
      ]
     },
     "metadata": {
      "needs_background": "light"
     },
     "output_type": "display_data"
    }
   ],
   "source": [
    "l,r = fit_test_save_model(model, bs=256, ep=50, imbalance=True, fnm='fer233.json', fnw='fer233.h5')"
   ]
  },
  {
   "cell_type": "markdown",
   "metadata": {},
   "source": [
    "<h3>Autre Exemple d'apprentissage un CNN model</h3>\n",
    "<p>Cette fois, on entrainne le meme model en souhaitant le overfitting est bien controle</p>"
   ]
  },
  {
   "cell_type": "code",
   "execution_count": 18,
   "metadata": {},
   "outputs": [
    {
     "name": "stdout",
     "output_type": "stream",
     "text": [
      "Fitting the model ...\n"
     ]
    },
    {
     "name": "stderr",
     "output_type": "stream",
     "text": [
      "C:\\Users\\jeang\\anaconda3\\envs\\rl_env\\lib\\site-packages\\sklearn\\utils\\validation.py:71: FutureWarning: Pass classes=[0 1 2 3 4 5 6] as keyword args. From version 0.25 passing these as positional arguments will result in an error\n",
      "  FutureWarning)\n"
     ]
    },
    {
     "name": "stdout",
     "output_type": "stream",
     "text": [
      "Epoch 1/20\n",
      "197/197 [==============================] - 81s 410ms/step - loss: 1.1208 - accuracy: 0.5747 - val_loss: 1.1795 - val_accuracy: 0.5578\n",
      "Epoch 2/20\n",
      "197/197 [==============================] - 84s 428ms/step - loss: 1.1194 - accuracy: 0.5760 - val_loss: 1.2240 - val_accuracy: 0.5436\n",
      "Epoch 3/20\n",
      "197/197 [==============================] - 84s 426ms/step - loss: 1.1188 - accuracy: 0.5762 - val_loss: 1.2230 - val_accuracy: 0.5327\n",
      "Epoch 4/20\n",
      "197/197 [==============================] - 89s 449ms/step - loss: 1.1140 - accuracy: 0.5807 - val_loss: 1.1737 - val_accuracy: 0.5561\n",
      "Epoch 5/20\n",
      "197/197 [==============================] - 86s 438ms/step - loss: 1.1022 - accuracy: 0.5817 - val_loss: 1.3114 - val_accuracy: 0.5205\n",
      "Epoch 6/20\n",
      "197/197 [==============================] - 80s 404ms/step - loss: 1.1014 - accuracy: 0.5842 - val_loss: 1.3433 - val_accuracy: 0.4957\n",
      "Epoch 7/20\n",
      "197/197 [==============================] - 82s 414ms/step - loss: 1.1004 - accuracy: 0.5827 - val_loss: 1.2527 - val_accuracy: 0.5274\n",
      "Epoch 8/20\n",
      "197/197 [==============================] - 80s 408ms/step - loss: 1.0969 - accuracy: 0.5853 - val_loss: 1.1602 - val_accuracy: 0.5581\n",
      "Epoch 9/20\n",
      "197/197 [==============================] - 81s 411ms/step - loss: 1.0900 - accuracy: 0.5898 - val_loss: 1.2567 - val_accuracy: 0.5311\n",
      "Epoch 10/20\n",
      "197/197 [==============================] - 81s 409ms/step - loss: 1.0882 - accuracy: 0.5863 - val_loss: 1.2187 - val_accuracy: 0.5439\n",
      "Epoch 11/20\n",
      "197/197 [==============================] - 80s 407ms/step - loss: 1.0893 - accuracy: 0.5907 - val_loss: 1.2505 - val_accuracy: 0.5247\n",
      "Epoch 12/20\n",
      "197/197 [==============================] - 80s 405ms/step - loss: 1.0777 - accuracy: 0.5933 - val_loss: 1.2764 - val_accuracy: 0.5319\n",
      "Epoch 13/20\n",
      "197/197 [==============================] - 82s 414ms/step - loss: 1.0834 - accuracy: 0.5898 - val_loss: 1.2772 - val_accuracy: 0.5135\n",
      "Epoch 14/20\n",
      "197/197 [==============================] - 83s 421ms/step - loss: 1.0762 - accuracy: 0.5919 - val_loss: 1.1590 - val_accuracy: 0.5670\n",
      "Epoch 15/20\n",
      "197/197 [==============================] - 82s 414ms/step - loss: 1.0711 - accuracy: 0.5949 - val_loss: 1.1442 - val_accuracy: 0.5748\n",
      "Epoch 16/20\n",
      "197/197 [==============================] - 81s 409ms/step - loss: 1.0614 - accuracy: 0.5974 - val_loss: 1.1386 - val_accuracy: 0.5770\n",
      "Epoch 17/20\n",
      "197/197 [==============================] - 81s 409ms/step - loss: 1.0710 - accuracy: 0.5953 - val_loss: 1.1305 - val_accuracy: 0.5690\n",
      "Epoch 18/20\n",
      "197/197 [==============================] - 82s 414ms/step - loss: 1.0592 - accuracy: 0.5965 - val_loss: 1.2205 - val_accuracy: 0.5391\n",
      "Epoch 19/20\n",
      "197/197 [==============================] - 79s 401ms/step - loss: 1.0632 - accuracy: 0.5973 - val_loss: 1.1368 - val_accuracy: 0.5729\n",
      "Epoch 20/20\n",
      "197/197 [==============================] - 80s 406ms/step - loss: 1.0533 - accuracy: 0.6006 - val_loss: 1.3036 - val_accuracy: 0.5060\n",
      "Saved model to disk done\n",
      "Evaluating the model on test data ...\n",
      "3589/3589 [==============================] - 2s 438us/step\n",
      "test loss, test acc: [1.251290901768802, 0.5358038544654846]\n",
      "      0     1     2     3     4     5     6\n",
      "0  0.50  0.03  0.16  0.11  0.12  0.02  0.06\n",
      "1  0.21  0.39  0.14  0.04  0.09  0.05  0.08\n",
      "2  0.12  0.01  0.37  0.11  0.17  0.11  0.11\n",
      "3  0.02  0.00  0.01  0.89  0.04  0.02  0.02\n",
      "4  0.15  0.01  0.16  0.06  0.45  0.01  0.17\n",
      "5  0.06  0.00  0.12  0.08  0.05  0.56  0.13\n",
      "6  0.12  0.00  0.10  0.11  0.23  0.01  0.43\n"
     ]
    },
    {
     "data": {
      "image/png": "[encoded data removed]",
      "text/plain": [
       "<Figure size 432x288 with 1 Axes>"
      ]
     },
     "metadata": {
      "needs_background": "light"
     },
     "output_type": "display_data"
    }
   ],
   "source": [
    "l,r = fit_test_save_model(model, bs=256, ep=20, imbalance=True, fnm='fer234.json', fnw='fer234.h5')"
   ]
  },
  {
   "cell_type": "markdown",
   "metadata": {},
   "source": [
    "<h2>Conclusion</h2>\n",
    "<p><ul>\n",
    "<li>L'interface de construire du model et l'apprentissage se font par deux fonctions simplement</li>\n",
    "<li>Sans data augmentation, l'accuracy maximum obtenue sur testset est 61%</li>\n",
    "<li>Avec data augmentation, on attend de meilleurs accuracy, mais ce n'est pas notre cas</li>\n",
    "<li>Nous devons verifier si les donnees sont en format demande par les techniques de data augmentation</li>\n",
    "</ul></p>"
   ]
  },
  {
   "cell_type": "code",
   "execution_count": null,
   "metadata": {},
   "outputs": [],
   "source": []
  }
 ],
 "metadata": {
  "kernelspec": {
   "display_name": "Python 3",
   "language": "python",
   "name": "python3"
  },
  "language_info": {
   "codemirror_mode": {
    "name": "ipython",
    "version": 3
   },
   "file_extension": ".py",
   "mimetype": "text/x-python",
   "name": "python",
   "nbconvert_exporter": "python",
   "pygments_lexer": "ipython3",
   "version": "3.7.7"
  }
 },
 "nbformat": 4,
 "nbformat_minor": 4
}
